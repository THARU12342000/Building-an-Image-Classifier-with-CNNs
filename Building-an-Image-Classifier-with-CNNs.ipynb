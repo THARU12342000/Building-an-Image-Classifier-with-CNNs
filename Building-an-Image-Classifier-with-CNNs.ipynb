{
  "nbformat": 4,
  "nbformat_minor": 0,
  "metadata": {
    "colab": {
      "provenance": [],
      "include_colab_link": true
    },
    "kernelspec": {
      "name": "python3",
      "display_name": "Python 3"
    },
    "language_info": {
      "name": "python"
    }
  },
  "cells": [
    {
      "cell_type": "markdown",
      "metadata": {
        "id": "view-in-github",
        "colab_type": "text"
      },
      "source": [
        "<a href=\"https://colab.research.google.com/github/THARU12342000/Building-an-Image-Classifier-with-CNNs/blob/main/Building-an-Image-Classifier-with-CNNs.ipynb\" target=\"_parent\"><img src=\"https://colab.research.google.com/assets/colab-badge.svg\" alt=\"Open In Colab\"/></a>"
      ]
    },
    {
      "cell_type": "markdown",
      "source": [
        "1. Imports:"
      ],
      "metadata": {
        "id": "xmgw2fXhTrNX"
      }
    },
    {
      "cell_type": "code",
      "execution_count": 1,
      "metadata": {
        "id": "j0GezNuVL-yw"
      },
      "outputs": [],
      "source": [
        "import tensorflow as tf\n",
        "from tensorflow.keras import datasets, layers , models\n",
        "import matplotlib.pyplot as plt\n",
        "import numpy as np\n",
        "from tensorflow.keras.callbacks import EarlyStopping\n",
        "\n"
      ]
    },
    {
      "cell_type": "markdown",
      "source": [
        "2. Load CIFAR-10 Dataset:\n",
        "\n"
      ],
      "metadata": {
        "id": "nMZmWjp8TxiW"
      }
    },
    {
      "cell_type": "code",
      "source": [
        "(X_train, Y_train), (X_test, Y_test) = datasets.cifar10.load_data()\n"
      ],
      "metadata": {
        "id": "yspmh61qNDXF",
        "outputId": "11d09ab5-1bf0-403c-94cf-4cf3b8ec7841",
        "colab": {
          "base_uri": "https://localhost:8080/"
        }
      },
      "execution_count": 3,
      "outputs": [
        {
          "output_type": "stream",
          "name": "stdout",
          "text": [
            "Downloading data from https://www.cs.toronto.edu/~kriz/cifar-10-python.tar.gz\n",
            "\u001b[1m170498071/170498071\u001b[0m \u001b[32m━━━━━━━━━━━━━━━━━━━━\u001b[0m\u001b[37m\u001b[0m \u001b[1m4s\u001b[0m 0us/step\n"
          ]
        }
      ]
    },
    {
      "cell_type": "markdown",
      "source": [
        "3. Preprocess Labels:\n"
      ],
      "metadata": {
        "id": "NalnGECcUBX_"
      }
    },
    {
      "cell_type": "code",
      "source": [
        "X_train.shape #32 pixel size,3 is RGB"
      ],
      "metadata": {
        "colab": {
          "base_uri": "https://localhost:8080/"
        },
        "id": "lj-ggNbWNyCJ",
        "outputId": "008e749f-a9d6-4bc9-de5a-1f7ba10512a8"
      },
      "execution_count": 5,
      "outputs": [
        {
          "output_type": "execute_result",
          "data": {
            "text/plain": [
              "(50000, 32, 32, 3)"
            ]
          },
          "metadata": {},
          "execution_count": 5
        }
      ]
    },
    {
      "cell_type": "code",
      "source": [
        "Y_train.shape"
      ],
      "metadata": {
        "colab": {
          "base_uri": "https://localhost:8080/"
        },
        "id": "VxvFbz8KN2b4",
        "outputId": "c17f0ac3-3540-4f12-a25c-c9a4dea0f101"
      },
      "execution_count": 6,
      "outputs": [
        {
          "output_type": "execute_result",
          "data": {
            "text/plain": [
              "(50000, 1)"
            ]
          },
          "metadata": {},
          "execution_count": 6
        }
      ]
    },
    {
      "cell_type": "code",
      "source": [
        "Y_train[:5]"
      ],
      "metadata": {
        "colab": {
          "base_uri": "https://localhost:8080/"
        },
        "id": "kLN-m1wDN_1D",
        "outputId": "c975d765-e17c-4379-8571-dda5473e5bf7"
      },
      "execution_count": 7,
      "outputs": [
        {
          "output_type": "execute_result",
          "data": {
            "text/plain": [
              "array([[6],\n",
              "       [9],\n",
              "       [9],\n",
              "       [4],\n",
              "       [1]], dtype=uint8)"
            ]
          },
          "metadata": {},
          "execution_count": 7
        }
      ]
    },
    {
      "cell_type": "markdown",
      "source": [
        "Reshaping:\n"
      ],
      "metadata": {
        "id": "WUCJesd9R4oe"
      }
    },
    {
      "cell_type": "code",
      "source": [
        "Y_train = Y_train.reshape(-1,)\n",
        "Y_train[:5]"
      ],
      "metadata": {
        "colab": {
          "base_uri": "https://localhost:8080/"
        },
        "id": "0u_PpXUcOQiZ",
        "outputId": "98ab48f6-cae2-4ce2-fce4-f8ff7bddb5a6"
      },
      "execution_count": 8,
      "outputs": [
        {
          "output_type": "execute_result",
          "data": {
            "text/plain": [
              "array([6, 9, 9, 4, 1], dtype=uint8)"
            ]
          },
          "metadata": {},
          "execution_count": 8
        }
      ]
    },
    {
      "cell_type": "code",
      "source": [
        "Y_test = Y_test.reshape(-1,)\n",
        "Y_test[:5]\n"
      ],
      "metadata": {
        "id": "Znf2VEFiOhhr",
        "outputId": "980339cd-3912-4b1b-8e1b-7865ab79bca4",
        "colab": {
          "base_uri": "https://localhost:8080/"
        }
      },
      "execution_count": 11,
      "outputs": [
        {
          "output_type": "execute_result",
          "data": {
            "text/plain": [
              "array([3, 8, 8, 0, 6], dtype=uint8)"
            ]
          },
          "metadata": {},
          "execution_count": 11
        }
      ]
    },
    {
      "cell_type": "markdown",
      "source": [
        "4. Define Classes:"
      ],
      "metadata": {
        "id": "-u6FLEg_UFcY"
      }
    },
    {
      "cell_type": "code",
      "source": [
        "classes = [\"airplane\",\"automobile\",\"bird\",\"cat\",\"deer\",\"dog\",\"frog\",\"horse\",\"ship\",\"truck\"] #Define CLasses"
      ],
      "metadata": {
        "id": "NcTA9-D9O17h"
      },
      "execution_count": 14,
      "outputs": []
    },
    {
      "cell_type": "markdown",
      "source": [
        "5. Plot a Sample Image with Class Label:\n",
        "\n"
      ],
      "metadata": {
        "id": "pajuvxTaUlar"
      }
    },
    {
      "cell_type": "code",
      "source": [
        "def plot_sample(X, y, index):\n",
        "    plt.figure(figsize=(2,2))\n",
        "    plt.imshow(X[index])\n",
        "    plt.xlabel(classes[y[index]])\n",
        "    plt.show()\n",
        "\n",
        "plot_sample(X_train, Y_train, 1)\n"
      ],
      "metadata": {
        "colab": {
          "base_uri": "https://localhost:8080/",
          "height": 237
        },
        "id": "nkio2h-HPTHM",
        "outputId": "7003ccfa-3255-40a6-e908-8bc286fb2145"
      },
      "execution_count": 16,
      "outputs": [
        {
          "output_type": "display_data",
          "data": {
            "text/plain": [
              "<Figure size 200x200 with 1 Axes>"
            ],
            "image/png": "[encoded data removed]"
          },
          "metadata": {}
        }
      ]
    },
    {
      "cell_type": "code",
      "source": [
        "X_train[:5]"
      ],
      "metadata": {
        "colab": {
          "base_uri": "https://localhost:8080/"
        },
        "id": "70aI-cXnQ6Nf",
        "outputId": "18047950-7c72-4890-dedc-3b1ecc639466"
      },
      "execution_count": 17,
      "outputs": [
        {
          "output_type": "execute_result",
          "data": {
            "text/plain": [
              "array([[[[ 59,  62,  63],\n",
              "         [ 43,  46,  45],\n",
              "         [ 50,  48,  43],\n",
              "         ...,\n",
              "         [158, 132, 108],\n",
              "         [152, 125, 102],\n",
              "         [148, 124, 103]],\n",
              "\n",
              "        [[ 16,  20,  20],\n",
              "         [  0,   0,   0],\n",
              "         [ 18,   8,   0],\n",
              "         ...,\n",
              "         [123,  88,  55],\n",
              "         [119,  83,  50],\n",
              "         [122,  87,  57]],\n",
              "\n",
              "        [[ 25,  24,  21],\n",
              "         [ 16,   7,   0],\n",
              "         [ 49,  27,   8],\n",
              "         ...,\n",
              "         [118,  84,  50],\n",
              "         [120,  84,  50],\n",
              "         [109,  73,  42]],\n",
              "\n",
              "        ...,\n",
              "\n",
              "        [[208, 170,  96],\n",
              "         [201, 153,  34],\n",
              "         [198, 161,  26],\n",
              "         ...,\n",
              "         [160, 133,  70],\n",
              "         [ 56,  31,   7],\n",
              "         [ 53,  34,  20]],\n",
              "\n",
              "        [[180, 139,  96],\n",
              "         [173, 123,  42],\n",
              "         [186, 144,  30],\n",
              "         ...,\n",
              "         [184, 148,  94],\n",
              "         [ 97,  62,  34],\n",
              "         [ 83,  53,  34]],\n",
              "\n",
              "        [[177, 144, 116],\n",
              "         [168, 129,  94],\n",
              "         [179, 142,  87],\n",
              "         ...,\n",
              "         [216, 184, 140],\n",
              "         [151, 118,  84],\n",
              "         [123,  92,  72]]],\n",
              "\n",
              "\n",
              "       [[[154, 177, 187],\n",
              "         [126, 137, 136],\n",
              "         [105, 104,  95],\n",
              "         ...,\n",
              "         [ 91,  95,  71],\n",
              "         [ 87,  90,  71],\n",
              "         [ 79,  81,  70]],\n",
              "\n",
              "        [[140, 160, 169],\n",
              "         [145, 153, 154],\n",
              "         [125, 125, 118],\n",
              "         ...,\n",
              "         [ 96,  99,  78],\n",
              "         [ 77,  80,  62],\n",
              "         [ 71,  73,  61]],\n",
              "\n",
              "        [[140, 155, 164],\n",
              "         [139, 146, 149],\n",
              "         [115, 115, 112],\n",
              "         ...,\n",
              "         [ 79,  82,  64],\n",
              "         [ 68,  70,  55],\n",
              "         [ 67,  69,  55]],\n",
              "\n",
              "        ...,\n",
              "\n",
              "        [[175, 167, 166],\n",
              "         [156, 154, 160],\n",
              "         [154, 160, 170],\n",
              "         ...,\n",
              "         [ 42,  34,  36],\n",
              "         [ 61,  53,  57],\n",
              "         [ 93,  83,  91]],\n",
              "\n",
              "        [[165, 154, 128],\n",
              "         [156, 152, 130],\n",
              "         [159, 161, 142],\n",
              "         ...,\n",
              "         [103,  93,  96],\n",
              "         [123, 114, 120],\n",
              "         [131, 121, 131]],\n",
              "\n",
              "        [[163, 148, 120],\n",
              "         [158, 148, 122],\n",
              "         [163, 156, 133],\n",
              "         ...,\n",
              "         [143, 133, 139],\n",
              "         [143, 134, 142],\n",
              "         [143, 133, 144]]],\n",
              "\n",
              "\n",
              "       [[[255, 255, 255],\n",
              "         [253, 253, 253],\n",
              "         [253, 253, 253],\n",
              "         ...,\n",
              "         [253, 253, 253],\n",
              "         [253, 253, 253],\n",
              "         [253, 253, 253]],\n",
              "\n",
              "        [[255, 255, 255],\n",
              "         [255, 255, 255],\n",
              "         [255, 255, 255],\n",
              "         ...,\n",
              "         [255, 255, 255],\n",
              "         [255, 255, 255],\n",
              "         [255, 255, 255]],\n",
              "\n",
              "        [[255, 255, 255],\n",
              "         [254, 254, 254],\n",
              "         [254, 254, 254],\n",
              "         ...,\n",
              "         [254, 254, 254],\n",
              "         [254, 254, 254],\n",
              "         [254, 254, 254]],\n",
              "\n",
              "        ...,\n",
              "\n",
              "        [[113, 120, 112],\n",
              "         [111, 118, 111],\n",
              "         [105, 112, 106],\n",
              "         ...,\n",
              "         [ 72,  81,  80],\n",
              "         [ 72,  80,  79],\n",
              "         [ 72,  80,  79]],\n",
              "\n",
              "        [[111, 118, 110],\n",
              "         [104, 111, 104],\n",
              "         [ 99, 106,  98],\n",
              "         ...,\n",
              "         [ 68,  75,  73],\n",
              "         [ 70,  76,  75],\n",
              "         [ 78,  84,  82]],\n",
              "\n",
              "        [[106, 113, 105],\n",
              "         [ 99, 106,  98],\n",
              "         [ 95, 102,  94],\n",
              "         ...,\n",
              "         [ 78,  85,  83],\n",
              "         [ 79,  85,  83],\n",
              "         [ 80,  86,  84]]],\n",
              "\n",
              "\n",
              "       [[[ 28,  25,  10],\n",
              "         [ 37,  34,  19],\n",
              "         [ 38,  35,  20],\n",
              "         ...,\n",
              "         [ 76,  67,  39],\n",
              "         [ 81,  72,  43],\n",
              "         [ 85,  76,  47]],\n",
              "\n",
              "        [[ 33,  28,  13],\n",
              "         [ 34,  30,  14],\n",
              "         [ 32,  27,  12],\n",
              "         ...,\n",
              "         [ 95,  82,  55],\n",
              "         [ 96,  82,  56],\n",
              "         [ 85,  72,  45]],\n",
              "\n",
              "        [[ 39,  32,  15],\n",
              "         [ 40,  33,  17],\n",
              "         [ 57,  50,  33],\n",
              "         ...,\n",
              "         [ 93,  76,  52],\n",
              "         [107,  89,  66],\n",
              "         [ 95,  77,  54]],\n",
              "\n",
              "        ...,\n",
              "\n",
              "        [[ 83,  73,  52],\n",
              "         [ 87,  77,  56],\n",
              "         [ 84,  74,  52],\n",
              "         ...,\n",
              "         [ 99,  93,  70],\n",
              "         [ 90,  84,  61],\n",
              "         [ 81,  75,  52]],\n",
              "\n",
              "        [[ 88,  72,  51],\n",
              "         [ 90,  74,  52],\n",
              "         [ 93,  77,  56],\n",
              "         ...,\n",
              "         [ 80,  74,  53],\n",
              "         [ 76,  70,  49],\n",
              "         [ 82,  76,  55]],\n",
              "\n",
              "        [[ 97,  78,  56],\n",
              "         [ 94,  75,  53],\n",
              "         [ 93,  75,  53],\n",
              "         ...,\n",
              "         [ 54,  47,  28],\n",
              "         [ 63,  56,  37],\n",
              "         [ 72,  65,  46]]],\n",
              "\n",
              "\n",
              "       [[[170, 180, 198],\n",
              "         [168, 178, 196],\n",
              "         [177, 185, 203],\n",
              "         ...,\n",
              "         [162, 179, 215],\n",
              "         [158, 178, 214],\n",
              "         [157, 177, 212]],\n",
              "\n",
              "        [[168, 181, 198],\n",
              "         [172, 185, 201],\n",
              "         [171, 183, 200],\n",
              "         ...,\n",
              "         [159, 177, 212],\n",
              "         [156, 176, 211],\n",
              "         [154, 174, 209]],\n",
              "\n",
              "        [[154, 170, 186],\n",
              "         [149, 165, 181],\n",
              "         [129, 144, 162],\n",
              "         ...,\n",
              "         [161, 178, 214],\n",
              "         [157, 177, 212],\n",
              "         [154, 174, 209]],\n",
              "\n",
              "        ...,\n",
              "\n",
              "        [[ 74,  84,  80],\n",
              "         [ 76,  85,  81],\n",
              "         [ 78,  85,  82],\n",
              "         ...,\n",
              "         [ 71,  75,  78],\n",
              "         [ 68,  72,  75],\n",
              "         [ 61,  65,  68]],\n",
              "\n",
              "        [[ 68,  76,  77],\n",
              "         [ 69,  77,  78],\n",
              "         [ 72,  79,  78],\n",
              "         ...,\n",
              "         [ 76,  80,  83],\n",
              "         [ 71,  75,  78],\n",
              "         [ 71,  75,  78]],\n",
              "\n",
              "        [[ 67,  75,  78],\n",
              "         [ 68,  76,  79],\n",
              "         [ 69,  75,  76],\n",
              "         ...,\n",
              "         [ 75,  79,  82],\n",
              "         [ 71,  75,  78],\n",
              "         [ 73,  77,  80]]]], dtype=uint8)"
            ]
          },
          "metadata": {},
          "execution_count": 17
        }
      ]
    },
    {
      "cell_type": "markdown",
      "source": [
        "6. Normalize Image Data (optional but recommended):\n",
        "\n"
      ],
      "metadata": {
        "id": "qwNiJmfHUrll"
      }
    },
    {
      "cell_type": "markdown",
      "source": [
        "Normalization of data\n"
      ],
      "metadata": {
        "id": "rcadia19RRH-"
      }
    },
    {
      "cell_type": "code",
      "source": [
        "X_train= X_train/255.0\n",
        "X_test= X_test/255.0"
      ],
      "metadata": {
        "id": "7qfCVyS5RAxu"
      },
      "execution_count": 18,
      "outputs": []
    },
    {
      "cell_type": "code",
      "source": [
        "from pathlib import WindowsPath\n",
        "data_augmentation=tf.keras.Sequential([\n",
        "    layers.RandomFlip(\"horizontal\",),#randomly flip the image horizontally\n",
        "    layers.RandomRotation(0.2),\n",
        "    layers.RandomZoom(0.2),\n",
        "    layers.RandomTranslation(height_factor=0.1,width_factor=0.1),\n",
        "    layers.RandomContrast(0.2)\n",
        "])"
      ],
      "metadata": {
        "id": "9e_KNh4aZd9X"
      },
      "execution_count": 19,
      "outputs": []
    },
    {
      "cell_type": "code",
      "source": [
        "X_train[:5]"
      ],
      "metadata": {
        "colab": {
          "base_uri": "https://localhost:8080/"
        },
        "id": "XaUGm9YCRMEU",
        "outputId": "fce5109a-603c-4ba5-93cc-771c4c472f59"
      },
      "execution_count": 20,
      "outputs": [
        {
          "output_type": "execute_result",
          "data": {
            "text/plain": [
              "array([[[[0.23137255, 0.24313725, 0.24705882],\n",
              "         [0.16862745, 0.18039216, 0.17647059],\n",
              "         [0.19607843, 0.18823529, 0.16862745],\n",
              "         ...,\n",
              "         [0.61960784, 0.51764706, 0.42352941],\n",
              "         [0.59607843, 0.49019608, 0.4       ],\n",
              "         [0.58039216, 0.48627451, 0.40392157]],\n",
              "\n",
              "        [[0.0627451 , 0.07843137, 0.07843137],\n",
              "         [0.        , 0.        , 0.        ],\n",
              "         [0.07058824, 0.03137255, 0.        ],\n",
              "         ...,\n",
              "         [0.48235294, 0.34509804, 0.21568627],\n",
              "         [0.46666667, 0.3254902 , 0.19607843],\n",
              "         [0.47843137, 0.34117647, 0.22352941]],\n",
              "\n",
              "        [[0.09803922, 0.09411765, 0.08235294],\n",
              "         [0.0627451 , 0.02745098, 0.        ],\n",
              "         [0.19215686, 0.10588235, 0.03137255],\n",
              "         ...,\n",
              "         [0.4627451 , 0.32941176, 0.19607843],\n",
              "         [0.47058824, 0.32941176, 0.19607843],\n",
              "         [0.42745098, 0.28627451, 0.16470588]],\n",
              "\n",
              "        ...,\n",
              "\n",
              "        [[0.81568627, 0.66666667, 0.37647059],\n",
              "         [0.78823529, 0.6       , 0.13333333],\n",
              "         [0.77647059, 0.63137255, 0.10196078],\n",
              "         ...,\n",
              "         [0.62745098, 0.52156863, 0.2745098 ],\n",
              "         [0.21960784, 0.12156863, 0.02745098],\n",
              "         [0.20784314, 0.13333333, 0.07843137]],\n",
              "\n",
              "        [[0.70588235, 0.54509804, 0.37647059],\n",
              "         [0.67843137, 0.48235294, 0.16470588],\n",
              "         [0.72941176, 0.56470588, 0.11764706],\n",
              "         ...,\n",
              "         [0.72156863, 0.58039216, 0.36862745],\n",
              "         [0.38039216, 0.24313725, 0.13333333],\n",
              "         [0.3254902 , 0.20784314, 0.13333333]],\n",
              "\n",
              "        [[0.69411765, 0.56470588, 0.45490196],\n",
              "         [0.65882353, 0.50588235, 0.36862745],\n",
              "         [0.70196078, 0.55686275, 0.34117647],\n",
              "         ...,\n",
              "         [0.84705882, 0.72156863, 0.54901961],\n",
              "         [0.59215686, 0.4627451 , 0.32941176],\n",
              "         [0.48235294, 0.36078431, 0.28235294]]],\n",
              "\n",
              "\n",
              "       [[[0.60392157, 0.69411765, 0.73333333],\n",
              "         [0.49411765, 0.5372549 , 0.53333333],\n",
              "         [0.41176471, 0.40784314, 0.37254902],\n",
              "         ...,\n",
              "         [0.35686275, 0.37254902, 0.27843137],\n",
              "         [0.34117647, 0.35294118, 0.27843137],\n",
              "         [0.30980392, 0.31764706, 0.2745098 ]],\n",
              "\n",
              "        [[0.54901961, 0.62745098, 0.6627451 ],\n",
              "         [0.56862745, 0.6       , 0.60392157],\n",
              "         [0.49019608, 0.49019608, 0.4627451 ],\n",
              "         ...,\n",
              "         [0.37647059, 0.38823529, 0.30588235],\n",
              "         [0.30196078, 0.31372549, 0.24313725],\n",
              "         [0.27843137, 0.28627451, 0.23921569]],\n",
              "\n",
              "        [[0.54901961, 0.60784314, 0.64313725],\n",
              "         [0.54509804, 0.57254902, 0.58431373],\n",
              "         [0.45098039, 0.45098039, 0.43921569],\n",
              "         ...,\n",
              "         [0.30980392, 0.32156863, 0.25098039],\n",
              "         [0.26666667, 0.2745098 , 0.21568627],\n",
              "         [0.2627451 , 0.27058824, 0.21568627]],\n",
              "\n",
              "        ...,\n",
              "\n",
              "        [[0.68627451, 0.65490196, 0.65098039],\n",
              "         [0.61176471, 0.60392157, 0.62745098],\n",
              "         [0.60392157, 0.62745098, 0.66666667],\n",
              "         ...,\n",
              "         [0.16470588, 0.13333333, 0.14117647],\n",
              "         [0.23921569, 0.20784314, 0.22352941],\n",
              "         [0.36470588, 0.3254902 , 0.35686275]],\n",
              "\n",
              "        [[0.64705882, 0.60392157, 0.50196078],\n",
              "         [0.61176471, 0.59607843, 0.50980392],\n",
              "         [0.62352941, 0.63137255, 0.55686275],\n",
              "         ...,\n",
              "         [0.40392157, 0.36470588, 0.37647059],\n",
              "         [0.48235294, 0.44705882, 0.47058824],\n",
              "         [0.51372549, 0.4745098 , 0.51372549]],\n",
              "\n",
              "        [[0.63921569, 0.58039216, 0.47058824],\n",
              "         [0.61960784, 0.58039216, 0.47843137],\n",
              "         [0.63921569, 0.61176471, 0.52156863],\n",
              "         ...,\n",
              "         [0.56078431, 0.52156863, 0.54509804],\n",
              "         [0.56078431, 0.5254902 , 0.55686275],\n",
              "         [0.56078431, 0.52156863, 0.56470588]]],\n",
              "\n",
              "\n",
              "       [[[1.        , 1.        , 1.        ],\n",
              "         [0.99215686, 0.99215686, 0.99215686],\n",
              "         [0.99215686, 0.99215686, 0.99215686],\n",
              "         ...,\n",
              "         [0.99215686, 0.99215686, 0.99215686],\n",
              "         [0.99215686, 0.99215686, 0.99215686],\n",
              "         [0.99215686, 0.99215686, 0.99215686]],\n",
              "\n",
              "        [[1.        , 1.        , 1.        ],\n",
              "         [1.        , 1.        , 1.        ],\n",
              "         [1.        , 1.        , 1.        ],\n",
              "         ...,\n",
              "         [1.        , 1.        , 1.        ],\n",
              "         [1.        , 1.        , 1.        ],\n",
              "         [1.        , 1.        , 1.        ]],\n",
              "\n",
              "        [[1.        , 1.        , 1.        ],\n",
              "         [0.99607843, 0.99607843, 0.99607843],\n",
              "         [0.99607843, 0.99607843, 0.99607843],\n",
              "         ...,\n",
              "         [0.99607843, 0.99607843, 0.99607843],\n",
              "         [0.99607843, 0.99607843, 0.99607843],\n",
              "         [0.99607843, 0.99607843, 0.99607843]],\n",
              "\n",
              "        ...,\n",
              "\n",
              "        [[0.44313725, 0.47058824, 0.43921569],\n",
              "         [0.43529412, 0.4627451 , 0.43529412],\n",
              "         [0.41176471, 0.43921569, 0.41568627],\n",
              "         ...,\n",
              "         [0.28235294, 0.31764706, 0.31372549],\n",
              "         [0.28235294, 0.31372549, 0.30980392],\n",
              "         [0.28235294, 0.31372549, 0.30980392]],\n",
              "\n",
              "        [[0.43529412, 0.4627451 , 0.43137255],\n",
              "         [0.40784314, 0.43529412, 0.40784314],\n",
              "         [0.38823529, 0.41568627, 0.38431373],\n",
              "         ...,\n",
              "         [0.26666667, 0.29411765, 0.28627451],\n",
              "         [0.2745098 , 0.29803922, 0.29411765],\n",
              "         [0.30588235, 0.32941176, 0.32156863]],\n",
              "\n",
              "        [[0.41568627, 0.44313725, 0.41176471],\n",
              "         [0.38823529, 0.41568627, 0.38431373],\n",
              "         [0.37254902, 0.4       , 0.36862745],\n",
              "         ...,\n",
              "         [0.30588235, 0.33333333, 0.3254902 ],\n",
              "         [0.30980392, 0.33333333, 0.3254902 ],\n",
              "         [0.31372549, 0.3372549 , 0.32941176]]],\n",
              "\n",
              "\n",
              "       [[[0.10980392, 0.09803922, 0.03921569],\n",
              "         [0.14509804, 0.13333333, 0.0745098 ],\n",
              "         [0.14901961, 0.1372549 , 0.07843137],\n",
              "         ...,\n",
              "         [0.29803922, 0.2627451 , 0.15294118],\n",
              "         [0.31764706, 0.28235294, 0.16862745],\n",
              "         [0.33333333, 0.29803922, 0.18431373]],\n",
              "\n",
              "        [[0.12941176, 0.10980392, 0.05098039],\n",
              "         [0.13333333, 0.11764706, 0.05490196],\n",
              "         [0.1254902 , 0.10588235, 0.04705882],\n",
              "         ...,\n",
              "         [0.37254902, 0.32156863, 0.21568627],\n",
              "         [0.37647059, 0.32156863, 0.21960784],\n",
              "         [0.33333333, 0.28235294, 0.17647059]],\n",
              "\n",
              "        [[0.15294118, 0.1254902 , 0.05882353],\n",
              "         [0.15686275, 0.12941176, 0.06666667],\n",
              "         [0.22352941, 0.19607843, 0.12941176],\n",
              "         ...,\n",
              "         [0.36470588, 0.29803922, 0.20392157],\n",
              "         [0.41960784, 0.34901961, 0.25882353],\n",
              "         [0.37254902, 0.30196078, 0.21176471]],\n",
              "\n",
              "        ...,\n",
              "\n",
              "        [[0.3254902 , 0.28627451, 0.20392157],\n",
              "         [0.34117647, 0.30196078, 0.21960784],\n",
              "         [0.32941176, 0.29019608, 0.20392157],\n",
              "         ...,\n",
              "         [0.38823529, 0.36470588, 0.2745098 ],\n",
              "         [0.35294118, 0.32941176, 0.23921569],\n",
              "         [0.31764706, 0.29411765, 0.20392157]],\n",
              "\n",
              "        [[0.34509804, 0.28235294, 0.2       ],\n",
              "         [0.35294118, 0.29019608, 0.20392157],\n",
              "         [0.36470588, 0.30196078, 0.21960784],\n",
              "         ...,\n",
              "         [0.31372549, 0.29019608, 0.20784314],\n",
              "         [0.29803922, 0.2745098 , 0.19215686],\n",
              "         [0.32156863, 0.29803922, 0.21568627]],\n",
              "\n",
              "        [[0.38039216, 0.30588235, 0.21960784],\n",
              "         [0.36862745, 0.29411765, 0.20784314],\n",
              "         [0.36470588, 0.29411765, 0.20784314],\n",
              "         ...,\n",
              "         [0.21176471, 0.18431373, 0.10980392],\n",
              "         [0.24705882, 0.21960784, 0.14509804],\n",
              "         [0.28235294, 0.25490196, 0.18039216]]],\n",
              "\n",
              "\n",
              "       [[[0.66666667, 0.70588235, 0.77647059],\n",
              "         [0.65882353, 0.69803922, 0.76862745],\n",
              "         [0.69411765, 0.7254902 , 0.79607843],\n",
              "         ...,\n",
              "         [0.63529412, 0.70196078, 0.84313725],\n",
              "         [0.61960784, 0.69803922, 0.83921569],\n",
              "         [0.61568627, 0.69411765, 0.83137255]],\n",
              "\n",
              "        [[0.65882353, 0.70980392, 0.77647059],\n",
              "         [0.6745098 , 0.7254902 , 0.78823529],\n",
              "         [0.67058824, 0.71764706, 0.78431373],\n",
              "         ...,\n",
              "         [0.62352941, 0.69411765, 0.83137255],\n",
              "         [0.61176471, 0.69019608, 0.82745098],\n",
              "         [0.60392157, 0.68235294, 0.81960784]],\n",
              "\n",
              "        [[0.60392157, 0.66666667, 0.72941176],\n",
              "         [0.58431373, 0.64705882, 0.70980392],\n",
              "         [0.50588235, 0.56470588, 0.63529412],\n",
              "         ...,\n",
              "         [0.63137255, 0.69803922, 0.83921569],\n",
              "         [0.61568627, 0.69411765, 0.83137255],\n",
              "         [0.60392157, 0.68235294, 0.81960784]],\n",
              "\n",
              "        ...,\n",
              "\n",
              "        [[0.29019608, 0.32941176, 0.31372549],\n",
              "         [0.29803922, 0.33333333, 0.31764706],\n",
              "         [0.30588235, 0.33333333, 0.32156863],\n",
              "         ...,\n",
              "         [0.27843137, 0.29411765, 0.30588235],\n",
              "         [0.26666667, 0.28235294, 0.29411765],\n",
              "         [0.23921569, 0.25490196, 0.26666667]],\n",
              "\n",
              "        [[0.26666667, 0.29803922, 0.30196078],\n",
              "         [0.27058824, 0.30196078, 0.30588235],\n",
              "         [0.28235294, 0.30980392, 0.30588235],\n",
              "         ...,\n",
              "         [0.29803922, 0.31372549, 0.3254902 ],\n",
              "         [0.27843137, 0.29411765, 0.30588235],\n",
              "         [0.27843137, 0.29411765, 0.30588235]],\n",
              "\n",
              "        [[0.2627451 , 0.29411765, 0.30588235],\n",
              "         [0.26666667, 0.29803922, 0.30980392],\n",
              "         [0.27058824, 0.29411765, 0.29803922],\n",
              "         ...,\n",
              "         [0.29411765, 0.30980392, 0.32156863],\n",
              "         [0.27843137, 0.29411765, 0.30588235],\n",
              "         [0.28627451, 0.30196078, 0.31372549]]]])"
            ]
          },
          "metadata": {},
          "execution_count": 20
        }
      ]
    },
    {
      "cell_type": "markdown",
      "source": [
        "7. Build CNN Model:"
      ],
      "metadata": {
        "id": "G-5rWCvGRdiz"
      }
    },
    {
      "cell_type": "code",
      "source": [
        "import tensorflow as tf\n",
        "from tensorflow.keras import layers, models\n",
        "\n",
        "cnn = models.Sequential([\n",
        "    data_augmentation,\n",
        "    layers.Conv2D(filters=32, kernel_size=(3,3), activation='relu', input_shape=(32,32,3)),\n",
        "    layers.MaxPooling2D(pool_size=(2,2)),\n",
        "\n",
        "    layers.Conv2D(filters=32, kernel_size=(2,2), activation='relu'),\n",
        "    layers.MaxPooling2D(pool_size=(2,2)),\n",
        "\n",
        "    layers.Flatten(),\n",
        "    layers.Dense(64, activation='relu'),\n",
        "    layers.Dense(63, activation='softmax')  # Assuming 63 classes in output\n",
        "])\n",
        "\n",
        "cnn.summary()  # To check model structure\n",
        "\n",
        "\n",
        "# Output\n",
        "# Model: \"sequential\"\n",
        "# _________________________________________________________________\n",
        "# Layer (type)                 Output Shape              Param #\n",
        "# =================================================================\n",
        "# data_augmentation (Sequential)  (None, 32, 32, 3)        0\n",
        "# _________________________________________________________________\n",
        "# conv2d (Conv2D)               (None, 30, 30, 32)        896       = 3x3x3x32+32\n",
        "# _________________________________________________________________\n",
        "# max_pooling2d (MaxPooling2D)  (None, 15, 15, 32)        0\n",
        "# _________________________________________________________________\n",
        "# conv2d_1 (Conv2D)             (None, 14, 14, 32)        4128      = 2x2x32x32+32\n",
        "# _________________________________________________________________\n",
        "# max_pooling2d_1 (MaxPooling2D)(None, 7, 7, 32)          0\n",
        "# _________________________________________________________________\n",
        "# flatten (Flatten)             (None, 1568)              0         = 7x7x32\n",
        "# _________________________________________________________________\n",
        "# dense (Dense)                 (None, 64)                100416    =1568x64+64\n",
        "# _________________________________________________________________\n",
        "# dense_1 (Dense)               (None, 63)                4095      =64x63+63\n",
        "# =================================================================\n",
        "# Total params: 109,634\n",
        "# Trainable params: 109,634\n",
        "# Non-trainable params: 0\n"
      ],
      "metadata": {
        "colab": {
          "base_uri": "https://localhost:8080/",
          "height": 440
        },
        "id": "FNpJClQ3Rcuv",
        "outputId": "d87f2dc5-2472-496d-910b-0b7e05090402"
      },
      "execution_count": 21,
      "outputs": [
        {
          "output_type": "stream",
          "name": "stderr",
          "text": [
            "/usr/local/lib/python3.11/dist-packages/keras/src/layers/convolutional/base_conv.py:107: UserWarning: Do not pass an `input_shape`/`input_dim` argument to a layer. When using Sequential models, prefer using an `Input(shape)` object as the first layer in the model instead.\n",
            "  super().__init__(activity_regularizer=activity_regularizer, **kwargs)\n"
          ]
        },
        {
          "output_type": "display_data",
          "data": {
            "text/plain": [
              "\u001b[1mModel: \"sequential_1\"\u001b[0m\n"
            ],
            "text/html": [
              "<pre style=\"white-space:pre;overflow-x:auto;line-height:normal;font-family:Menlo,'DejaVu Sans Mono',consolas,'Courier New',monospace\"><span style=\"font-weight: bold\">Model: \"sequential_1\"</span>\n",
              "</pre>\n"
            ]
          },
          "metadata": {}
        },
        {
          "output_type": "display_data",
          "data": {
            "text/plain": [
              "┏━━━━━━━━━━━━━━━━━━━━━━━━━━━━━━━━━━━━━━┳━━━━━━━━━━━━━━━━━━━━━━━━━━━━━┳━━━━━━━━━━━━━━━━━┓\n",
              "┃\u001b[1m \u001b[0m\u001b[1mLayer (type)                        \u001b[0m\u001b[1m \u001b[0m┃\u001b[1m \u001b[0m\u001b[1mOutput Shape               \u001b[0m\u001b[1m \u001b[0m┃\u001b[1m \u001b[0m\u001b[1m        Param #\u001b[0m\u001b[1m \u001b[0m┃\n",
              "┡━━━━━━━━━━━━━━━━━━━━━━━━━━━━━━━━━━━━━━╇━━━━━━━━━━━━━━━━━━━━━━━━━━━━━╇━━━━━━━━━━━━━━━━━┩\n",
              "│ sequential (\u001b[38;5;33mSequential\u001b[0m)              │ ?                           │     \u001b[38;5;34m0\u001b[0m (unbuilt) │\n",
              "├──────────────────────────────────────┼─────────────────────────────┼─────────────────┤\n",
              "│ conv2d (\u001b[38;5;33mConv2D\u001b[0m)                      │ ?                           │     \u001b[38;5;34m0\u001b[0m (unbuilt) │\n",
              "├──────────────────────────────────────┼─────────────────────────────┼─────────────────┤\n",
              "│ max_pooling2d (\u001b[38;5;33mMaxPooling2D\u001b[0m)         │ ?                           │               \u001b[38;5;34m0\u001b[0m │\n",
              "├──────────────────────────────────────┼─────────────────────────────┼─────────────────┤\n",
              "│ conv2d_1 (\u001b[38;5;33mConv2D\u001b[0m)                    │ ?                           │     \u001b[38;5;34m0\u001b[0m (unbuilt) │\n",
              "├──────────────────────────────────────┼─────────────────────────────┼─────────────────┤\n",
              "│ max_pooling2d_1 (\u001b[38;5;33mMaxPooling2D\u001b[0m)       │ ?                           │               \u001b[38;5;34m0\u001b[0m │\n",
              "├──────────────────────────────────────┼─────────────────────────────┼─────────────────┤\n",
              "│ flatten (\u001b[38;5;33mFlatten\u001b[0m)                    │ ?                           │     \u001b[38;5;34m0\u001b[0m (unbuilt) │\n",
              "├──────────────────────────────────────┼─────────────────────────────┼─────────────────┤\n",
              "│ dense (\u001b[38;5;33mDense\u001b[0m)                        │ ?                           │     \u001b[38;5;34m0\u001b[0m (unbuilt) │\n",
              "├──────────────────────────────────────┼─────────────────────────────┼─────────────────┤\n",
              "│ dense_1 (\u001b[38;5;33mDense\u001b[0m)                      │ ?                           │     \u001b[38;5;34m0\u001b[0m (unbuilt) │\n",
              "└──────────────────────────────────────┴─────────────────────────────┴─────────────────┘\n"
            ],
            "text/html": [
              "<pre style=\"white-space:pre;overflow-x:auto;line-height:normal;font-family:Menlo,'DejaVu Sans Mono',consolas,'Courier New',monospace\">┏━━━━━━━━━━━━━━━━━━━━━━━━━━━━━━━━━━━━━━┳━━━━━━━━━━━━━━━━━━━━━━━━━━━━━┳━━━━━━━━━━━━━━━━━┓\n",
              "┃<span style=\"font-weight: bold\"> Layer (type)                         </span>┃<span style=\"font-weight: bold\"> Output Shape                </span>┃<span style=\"font-weight: bold\">         Param # </span>┃\n",
              "┡━━━━━━━━━━━━━━━━━━━━━━━━━━━━━━━━━━━━━━╇━━━━━━━━━━━━━━━━━━━━━━━━━━━━━╇━━━━━━━━━━━━━━━━━┩\n",
              "│ sequential (<span style=\"color: #0087ff; text-decoration-color: #0087ff\">Sequential</span>)              │ ?                           │     <span style=\"color: #00af00; text-decoration-color: #00af00\">0</span> (unbuilt) │\n",
              "├──────────────────────────────────────┼─────────────────────────────┼─────────────────┤\n",
              "│ conv2d (<span style=\"color: #0087ff; text-decoration-color: #0087ff\">Conv2D</span>)                      │ ?                           │     <span style=\"color: #00af00; text-decoration-color: #00af00\">0</span> (unbuilt) │\n",
              "├──────────────────────────────────────┼─────────────────────────────┼─────────────────┤\n",
              "│ max_pooling2d (<span style=\"color: #0087ff; text-decoration-color: #0087ff\">MaxPooling2D</span>)         │ ?                           │               <span style=\"color: #00af00; text-decoration-color: #00af00\">0</span> │\n",
              "├──────────────────────────────────────┼─────────────────────────────┼─────────────────┤\n",
              "│ conv2d_1 (<span style=\"color: #0087ff; text-decoration-color: #0087ff\">Conv2D</span>)                    │ ?                           │     <span style=\"color: #00af00; text-decoration-color: #00af00\">0</span> (unbuilt) │\n",
              "├──────────────────────────────────────┼─────────────────────────────┼─────────────────┤\n",
              "│ max_pooling2d_1 (<span style=\"color: #0087ff; text-decoration-color: #0087ff\">MaxPooling2D</span>)       │ ?                           │               <span style=\"color: #00af00; text-decoration-color: #00af00\">0</span> │\n",
              "├──────────────────────────────────────┼─────────────────────────────┼─────────────────┤\n",
              "│ flatten (<span style=\"color: #0087ff; text-decoration-color: #0087ff\">Flatten</span>)                    │ ?                           │     <span style=\"color: #00af00; text-decoration-color: #00af00\">0</span> (unbuilt) │\n",
              "├──────────────────────────────────────┼─────────────────────────────┼─────────────────┤\n",
              "│ dense (<span style=\"color: #0087ff; text-decoration-color: #0087ff\">Dense</span>)                        │ ?                           │     <span style=\"color: #00af00; text-decoration-color: #00af00\">0</span> (unbuilt) │\n",
              "├──────────────────────────────────────┼─────────────────────────────┼─────────────────┤\n",
              "│ dense_1 (<span style=\"color: #0087ff; text-decoration-color: #0087ff\">Dense</span>)                      │ ?                           │     <span style=\"color: #00af00; text-decoration-color: #00af00\">0</span> (unbuilt) │\n",
              "└──────────────────────────────────────┴─────────────────────────────┴─────────────────┘\n",
              "</pre>\n"
            ]
          },
          "metadata": {}
        },
        {
          "output_type": "display_data",
          "data": {
            "text/plain": [
              "\u001b[1m Total params: \u001b[0m\u001b[38;5;34m0\u001b[0m (0.00 B)\n"
            ],
            "text/html": [
              "<pre style=\"white-space:pre;overflow-x:auto;line-height:normal;font-family:Menlo,'DejaVu Sans Mono',consolas,'Courier New',monospace\"><span style=\"font-weight: bold\"> Total params: </span><span style=\"color: #00af00; text-decoration-color: #00af00\">0</span> (0.00 B)\n",
              "</pre>\n"
            ]
          },
          "metadata": {}
        },
        {
          "output_type": "display_data",
          "data": {
            "text/plain": [
              "\u001b[1m Trainable params: \u001b[0m\u001b[38;5;34m0\u001b[0m (0.00 B)\n"
            ],
            "text/html": [
              "<pre style=\"white-space:pre;overflow-x:auto;line-height:normal;font-family:Menlo,'DejaVu Sans Mono',consolas,'Courier New',monospace\"><span style=\"font-weight: bold\"> Trainable params: </span><span style=\"color: #00af00; text-decoration-color: #00af00\">0</span> (0.00 B)\n",
              "</pre>\n"
            ]
          },
          "metadata": {}
        },
        {
          "output_type": "display_data",
          "data": {
            "text/plain": [
              "\u001b[1m Non-trainable params: \u001b[0m\u001b[38;5;34m0\u001b[0m (0.00 B)\n"
            ],
            "text/html": [
              "<pre style=\"white-space:pre;overflow-x:auto;line-height:normal;font-family:Menlo,'DejaVu Sans Mono',consolas,'Courier New',monospace\"><span style=\"font-weight: bold\"> Non-trainable params: </span><span style=\"color: #00af00; text-decoration-color: #00af00\">0</span> (0.00 B)\n",
              "</pre>\n"
            ]
          },
          "metadata": {}
        }
      ]
    },
    {
      "cell_type": "markdown",
      "source": [
        " 8. Compile the Model:"
      ],
      "metadata": {
        "id": "nJVIlajIUcPI"
      }
    },
    {
      "cell_type": "code",
      "source": [
        "# Compile the CNN model\n",
        "cnn.compile(\n",
        "    # Optimizer: 'adam' is an adaptive learning rate optimizer that adjusts based on the training data\n",
        "    optimizer='adam',\n",
        "\n",
        "    # Loss function: 'sparse_categorical_crossentropy' is used for multi-class classification problems\n",
        "    # where labels are integers (not one-hot encoded), and it compares the predicted class with the true class\n",
        "    loss='sparse_categorical_crossentropy',\n",
        "\n",
        "    # Metrics: We are using 'accuracy' to evaluate the performance of the model based on how many predictions are correct\n",
        "    metrics=['accuracy']\n",
        ")\n"
      ],
      "metadata": {
        "id": "myroN3QPUH5G"
      },
      "execution_count": 22,
      "outputs": []
    },
    {
      "cell_type": "markdown",
      "source": [
        "Define Early Stopping\n"
      ],
      "metadata": {
        "id": "gBK63AzgbtSF"
      }
    },
    {
      "cell_type": "code",
      "source": [
        "#define Early Stopping\n",
        "early_stopping = EarlyStopping(\n",
        "    monitor='val_loss',\n",
        "    patience=3,\n",
        "    restore_best_weights=True\n",
        ")"
      ],
      "metadata": {
        "id": "dBZLlx-9bFDi"
      },
      "execution_count": 23,
      "outputs": []
    },
    {
      "cell_type": "markdown",
      "source": [
        "9. Train the CNN Model with Epoch Output:\n"
      ],
      "metadata": {
        "id": "QJX7kG7RViJN"
      }
    },
    {
      "cell_type": "code",
      "source": [
        "# Train the CNN model\n",
        "cnn.fit(\n",
        "    X_train,  # Training data (images)\n",
        "    Y_train,  # Labels for the training data\n",
        "    epochs=5,  # Number of epochs to train the model\n",
        "    validation_data=(X_test, Y_test),  # Validation data to evaluate the model during training\n",
        "    callbacks=[early_stopping]  # EarlyStopping callback to halt training if validation loss doesn't improve\n",
        ")\n"
      ],
      "metadata": {
        "colab": {
          "base_uri": "https://localhost:8080/"
        },
        "id": "8PGw_fMKVIo9",
        "outputId": "4dea97fc-7b67-47e4-f52f-49fd582bfeee"
      },
      "execution_count": 26,
      "outputs": [
        {
          "output_type": "stream",
          "name": "stdout",
          "text": [
            "Epoch 1/5\n",
            "\u001b[1m1563/1563\u001b[0m \u001b[32m━━━━━━━━━━━━━━━━━━━━\u001b[0m\u001b[37m\u001b[0m \u001b[1m73s\u001b[0m 44ms/step - accuracy: 0.2734 - loss: 2.0822 - val_accuracy: 0.3989 - val_loss: 1.7099\n",
            "Epoch 2/5\n",
            "\u001b[1m1563/1563\u001b[0m \u001b[32m━━━━━━━━━━━━━━━━━━━━\u001b[0m\u001b[37m\u001b[0m \u001b[1m84s\u001b[0m 46ms/step - accuracy: 0.4000 - loss: 1.6686 - val_accuracy: 0.4761 - val_loss: 1.4937\n",
            "Epoch 3/5\n",
            "\u001b[1m1563/1563\u001b[0m \u001b[32m━━━━━━━━━━━━━━━━━━━━\u001b[0m\u001b[37m\u001b[0m \u001b[1m81s\u001b[0m 45ms/step - accuracy: 0.4375 - loss: 1.5748 - val_accuracy: 0.4933 - val_loss: 1.4157\n",
            "Epoch 4/5\n",
            "\u001b[1m1563/1563\u001b[0m \u001b[32m━━━━━━━━━━━━━━━━━━━━\u001b[0m\u001b[37m\u001b[0m \u001b[1m78s\u001b[0m 43ms/step - accuracy: 0.4579 - loss: 1.5258 - val_accuracy: 0.4899 - val_loss: 1.4375\n",
            "Epoch 5/5\n",
            "\u001b[1m1563/1563\u001b[0m \u001b[32m━━━━━━━━━━━━━━━━━━━━\u001b[0m\u001b[37m\u001b[0m \u001b[1m82s\u001b[0m 43ms/step - accuracy: 0.4758 - loss: 1.4742 - val_accuracy: 0.5255 - val_loss: 1.3472\n"
          ]
        },
        {
          "output_type": "execute_result",
          "data": {
            "text/plain": [
              "<keras.src.callbacks.history.History at 0x7b52b5b49190>"
            ]
          },
          "metadata": {},
          "execution_count": 26
        }
      ]
    },
    {
      "cell_type": "markdown",
      "source": [
        "10. Evaluate the CNN Model:\n"
      ],
      "metadata": {
        "id": "1z9uxGZ3XeNA"
      }
    },
    {
      "cell_type": "code",
      "source": [
        "cnn.evaluate(X_test, Y_test)\n"
      ],
      "metadata": {
        "colab": {
          "base_uri": "https://localhost:8080/"
        },
        "id": "Qd7aIyNaXA5e",
        "outputId": "bca62a27-adfe-495e-c4b2-e2a2d0136ce7"
      },
      "execution_count": 27,
      "outputs": [
        {
          "output_type": "stream",
          "name": "stdout",
          "text": [
            "\u001b[1m313/313\u001b[0m \u001b[32m━━━━━━━━━━━━━━━━━━━━\u001b[0m\u001b[37m\u001b[0m \u001b[1m4s\u001b[0m 12ms/step - accuracy: 0.5273 - loss: 1.3380\n"
          ]
        },
        {
          "output_type": "execute_result",
          "data": {
            "text/plain": [
              "[1.347238302230835, 0.5254999995231628]"
            ]
          },
          "metadata": {},
          "execution_count": 27
        }
      ]
    },
    {
      "cell_type": "markdown",
      "source": [
        "11. Predict on Test Data and Display First 5 Predictions:\n"
      ],
      "metadata": {
        "id": "vcfJZG01YJs0"
      }
    },
    {
      "cell_type": "code",
      "source": [
        "# Generate predictions on the test set\n",
        "y_pred = cnn.predict(X_test)\n",
        "\n",
        "# Display the first 5 predictions\n",
        "print(y_pred[:5])\n"
      ],
      "metadata": {
        "colab": {
          "base_uri": "https://localhost:8080/"
        },
        "id": "Xes0JKRxXJXB",
        "outputId": "0a0b7341-6178-421f-dae5-5361a7ee1819"
      },
      "execution_count": 28,
      "outputs": [
        {
          "output_type": "stream",
          "name": "stdout",
          "text": [
            "\u001b[1m313/313\u001b[0m \u001b[32m━━━━━━━━━━━━━━━━━━━━\u001b[0m\u001b[37m\u001b[0m \u001b[1m3s\u001b[0m 8ms/step\n",
            "[[7.65219750e-03 3.20451595e-02 5.96674718e-02 3.65381062e-01\n",
            "  5.14226966e-03 2.93446094e-01 1.86347350e-01 2.01913365e-03\n",
            "  4.04871814e-02 7.81201990e-03 2.36947462e-10 1.04738614e-11\n",
            "  2.81261750e-11 1.45798703e-11 1.14566681e-11 7.56267132e-11\n",
            "  3.54798049e-12 7.24981750e-12 4.26762181e-10 1.49083679e-09\n",
            "  1.04996699e-10 2.69494444e-11 5.60295083e-12 9.93259988e-12\n",
            "  2.90895953e-11 1.92454039e-10 1.20492713e-11 2.16951776e-10\n",
            "  1.18127470e-11 8.94171456e-12 1.33288010e-12 1.86699795e-10\n",
            "  1.23354122e-11 1.62897817e-09 6.32103918e-12 2.09936513e-11\n",
            "  1.28132602e-10 7.26365190e-10 2.65378192e-10 5.41666607e-11\n",
            "  8.37941695e-12 1.81307150e-12 6.19886174e-12 3.03864225e-11\n",
            "  1.26273908e-10 6.10637027e-11 9.21769744e-11 3.71752108e-12\n",
            "  8.22727581e-11 6.11178816e-11 2.34436776e-10 5.10006898e-11\n",
            "  5.30982168e-11 6.44654599e-12 4.28143042e-11 1.01628768e-10\n",
            "  5.20392063e-12 1.63167327e-10 5.97623296e-12 2.94999372e-11\n",
            "  5.83142735e-12 9.75573181e-12 2.14878115e-11]\n",
            " [3.18710133e-02 7.80186713e-01 1.68132875e-03 2.28201359e-04\n",
            "  5.29959252e-05 7.27847364e-05 9.31505492e-05 1.36285589e-05\n",
            "  1.31561428e-01 5.42381294e-02 1.48376227e-08 2.78439916e-09\n",
            "  3.85815380e-09 8.87108775e-10 7.16024084e-09 4.28545377e-09\n",
            "  4.05825329e-09 8.82094753e-09 3.00538661e-09 1.41421816e-08\n",
            "  4.09454906e-08 2.34092017e-08 3.59979246e-08 1.75433446e-09\n",
            "  1.81363424e-09 1.44250167e-08 5.84599169e-09 5.96306737e-09\n",
            "  9.16186060e-09 9.83280013e-10 2.93209590e-09 6.66578392e-09\n",
            "  1.03527595e-08 1.38305545e-08 9.25643029e-09 5.77523132e-08\n",
            "  4.86192919e-10 1.68386705e-09 9.17430687e-10 2.37515851e-09\n",
            "  2.33369821e-08 6.40299191e-09 1.93180529e-08 2.22555530e-09\n",
            "  2.06820445e-08 4.29943769e-09 1.43878864e-09 5.92577676e-09\n",
            "  4.26734843e-08 5.71018006e-08 7.15139226e-10 3.02128562e-08\n",
            "  1.62803762e-08 7.83165444e-09 8.00056910e-10 4.25509805e-09\n",
            "  1.60446429e-08 1.06837905e-09 2.54285681e-09 1.32560389e-08\n",
            "  3.28879390e-09 3.43651063e-09 6.43362164e-09]\n",
            " [1.57161474e-01 3.79520625e-01 2.33094580e-02 7.16259237e-03\n",
            "  2.04793992e-03 2.77834851e-03 1.00212218e-03 1.18957239e-03\n",
            "  3.32014471e-01 9.38107967e-02 7.76960434e-08 1.22930190e-08\n",
            "  4.24978985e-08 2.28799450e-08 6.46027516e-08 4.45211086e-08\n",
            "  1.77751271e-08 2.79260917e-08 3.50349190e-08 1.87881867e-07\n",
            "  1.22403591e-07 6.89648516e-08 5.21558938e-08 1.75618435e-08\n",
            "  2.35429649e-08 1.21790634e-07 3.43363844e-08 3.73989018e-08\n",
            "  3.26855485e-08 1.20953025e-08 1.13697043e-08 5.94625327e-08\n",
            "  4.34957528e-08 1.63820644e-07 2.99176115e-08 1.66670759e-07\n",
            "  1.29307063e-08 2.38321149e-08 1.41616789e-08 3.96531448e-08\n",
            "  5.04426794e-08 9.90439375e-09 3.87421153e-08 2.46457716e-08\n",
            "  8.04428240e-08 2.31229915e-08 2.44724063e-08 1.61502101e-08\n",
            "  1.46490919e-07 1.43265140e-07 1.84835596e-08 1.04865812e-07\n",
            "  9.41500389e-08 1.66272187e-08 1.48838062e-08 2.39104736e-08\n",
            "  4.99206614e-08 1.89237621e-08 1.31042839e-08 3.04114138e-08\n",
            "  1.77407156e-08 2.15504468e-08 5.19666301e-08]\n",
            " [7.71440387e-01 3.56451161e-02 3.54079381e-02 4.43142047e-03\n",
            "  3.28298891e-03 1.00318389e-03 7.93192256e-03 5.74313744e-04\n",
            "  1.27389833e-01 1.28907161e-02 5.21923091e-08 5.82198156e-09\n",
            "  2.66734990e-08 8.42460768e-09 4.04366141e-08 2.37144917e-08\n",
            "  1.02753539e-08 2.55502837e-08 8.60848370e-09 4.71386947e-08\n",
            "  1.06057009e-07 7.96721551e-08 1.52123132e-08 4.79754547e-08\n",
            "  4.96815709e-08 7.48266515e-08 4.15389358e-08 9.16146359e-09\n",
            "  2.35420199e-08 3.86654664e-09 8.77664608e-09 3.40993331e-08\n",
            "  2.39200038e-08 1.45308903e-07 3.26135492e-08 9.28961157e-08\n",
            "  6.36125375e-09 1.08491491e-08 1.02564002e-08 3.64582782e-08\n",
            "  6.85827359e-08 1.61399534e-08 7.32371745e-08 3.37778729e-08\n",
            "  5.55272806e-08 2.69241642e-08 8.87568330e-09 1.45670009e-08\n",
            "  6.87502464e-08 1.60724070e-07 4.29214708e-09 6.55220305e-08\n",
            "  1.25849766e-07 1.13863257e-08 7.03455427e-09 6.13716900e-09\n",
            "  1.24700691e-07 1.41646481e-08 7.67278507e-09 2.76199081e-08\n",
            "  7.97390154e-09 2.63815565e-08 2.64181121e-08]\n",
            " [2.13708860e-04 9.84977931e-04 4.80014756e-02 2.89403759e-02\n",
            "  2.16062993e-01 2.93289851e-02 6.61932528e-01 1.23563893e-02\n",
            "  8.51032732e-04 1.32735283e-03 3.53889473e-09 2.47324689e-10\n",
            "  5.77953685e-09 2.84284440e-09 2.23262564e-09 1.86099336e-09\n",
            "  2.61784566e-10 3.78002990e-10 2.28476882e-09 9.66735225e-09\n",
            "  1.02797006e-08 1.09350007e-09 4.02822886e-10 3.93997857e-09\n",
            "  2.71330269e-09 1.62505298e-08 2.76311418e-10 4.26031121e-09\n",
            "  9.43199074e-10 8.78363771e-10 4.39576375e-10 3.67547703e-09\n",
            "  3.79988735e-10 3.94268689e-08 5.51428070e-10 1.11011655e-09\n",
            "  5.60485036e-09 1.36449900e-08 1.03165299e-08 6.87390278e-09\n",
            "  5.00759212e-10 4.67019867e-10 8.64236516e-10 2.96847547e-09\n",
            "  1.16171641e-08 1.81726645e-09 1.77593151e-09 1.07268076e-10\n",
            "  3.01246295e-09 1.82177118e-09 8.72636541e-09 4.95290031e-09\n",
            "  4.41513448e-09 6.63223643e-10 4.93686603e-09 2.30389999e-10\n",
            "  1.05981564e-10 4.78617945e-09 3.48471890e-10 1.16322574e-09\n",
            "  1.25935457e-10 1.50814881e-08 2.39108555e-09]]\n"
          ]
        }
      ]
    },
    {
      "cell_type": "code",
      "source": [
        "# Convert the predicted probabilities to class labels\n",
        "# y_pred contains the probability distribution for each image, with the shape (num_samples, num_classes)\n",
        "# np.argmax() finds the index of the maximum probability for each sample, which corresponds to the predicted class label.\n",
        "y_classes = [np.argmax(element) for element in y_pred]\n"
      ],
      "metadata": {
        "id": "YC1Nk3yWXWHw"
      },
      "execution_count": 30,
      "outputs": []
    },
    {
      "cell_type": "code",
      "source": [
        "Y_test[:5]"
      ],
      "metadata": {
        "colab": {
          "base_uri": "https://localhost:8080/"
        },
        "id": "SoneHzHuX8lc",
        "outputId": "8d36c4e1-bfdb-42fa-c3ee-35f28681bbc6"
      },
      "execution_count": 31,
      "outputs": [
        {
          "output_type": "execute_result",
          "data": {
            "text/plain": [
              "array([3, 8, 8, 0, 6], dtype=uint8)"
            ]
          },
          "metadata": {},
          "execution_count": 31
        }
      ]
    },
    {
      "cell_type": "code",
      "source": [
        "plot_sample(X_test,Y_test,3)"
      ],
      "metadata": {
        "colab": {
          "base_uri": "https://localhost:8080/",
          "height": 237
        },
        "id": "rKlfuhxlX_8b",
        "outputId": "3de30976-ad20-4392-fb3a-0d4dc7efbcce"
      },
      "execution_count": 32,
      "outputs": [
        {
          "output_type": "display_data",
          "data": {
            "text/plain": [
              "<Figure size 200x200 with 1 Axes>"
            ],
            "image/png": "[encoded data removed]"
          },
          "metadata": {}
        }
      ]
    },
    {
      "cell_type": "code",
      "source": [
        "classes[y_classes[3]]\n"
      ],
      "metadata": {
        "colab": {
          "base_uri": "https://localhost:8080/",
          "height": 36
        },
        "id": "e04_QkAQYcPP",
        "outputId": "5e1d57b2-33da-49ea-fc92-11fc9e7dbcc6"
      },
      "execution_count": 34,
      "outputs": [
        {
          "output_type": "execute_result",
          "data": {
            "text/plain": [
              "'airplane'"
            ],
            "application/vnd.google.colaboratory.intrinsic+json": {
              "type": "string"
            }
          },
          "metadata": {},
          "execution_count": 34
        }
      ]
    }
  ]
}