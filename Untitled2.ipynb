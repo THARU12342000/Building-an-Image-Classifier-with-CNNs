{
  "nbformat": 4,
  "nbformat_minor": 0,
  "metadata": {
    "colab": {
      "provenance": [],
      "authorship_tag": "ABX9TyPRI3LPn/cSxjzTu0WlKlvZ",
      "include_colab_link": true
    },
    "kernelspec": {
      "name": "python3",
      "display_name": "Python 3"
    },
    "language_info": {
      "name": "python"
    }
  },
  "cells": [
    {
      "cell_type": "markdown",
      "metadata": {
        "id": "view-in-github",
        "colab_type": "text"
      },
      "source": [
        "<a href=\"https://colab.research.google.com/github/THARU12342000/Building-an-Image-Classifier-with-CNNs/blob/main/Untitled2.ipynb\" target=\"_parent\"><img src=\"https://colab.research.google.com/assets/colab-badge.svg\" alt=\"Open In Colab\"/></a>"
      ]
    },
    {
      "cell_type": "markdown",
      "source": [
        "1. Imports:"
      ],
      "metadata": {
        "id": "xmgw2fXhTrNX"
      }
    },
    {
      "cell_type": "code",
      "execution_count": null,
      "metadata": {
        "id": "j0GezNuVL-yw"
      },
      "outputs": [],
      "source": [
        "import tensorflow as tf\n",
        "from tensorflow.keras import datasets, layers , models\n",
        "import matplotlib.pyplot as plt\n",
        "import numpy as np\n",
        "from tensorflow.keras.callbacks import EarlyStopping\n",
        "\n"
      ]
    },
    {
      "cell_type": "markdown",
      "source": [
        "2. Load CIFAR-10 Dataset:\n",
        "\n"
      ],
      "metadata": {
        "id": "nMZmWjp8TxiW"
      }
    },
    {
      "cell_type": "code",
      "source": [
        "(X_train, Y_train), (X_test, Y_test) = datasets.cifar10.load_data()\n"
      ],
      "metadata": {
        "id": "yspmh61qNDXF"
      },
      "execution_count": null,
      "outputs": []
    },
    {
      "cell_type": "markdown",
      "source": [
        "3. Preprocess Labels:\n"
      ],
      "metadata": {
        "id": "NalnGECcUBX_"
      }
    },
    {
      "cell_type": "code",
      "source": [
        "X_train.shape"
      ],
      "metadata": {
        "colab": {
          "base_uri": "https://localhost:8080/"
        },
        "id": "lj-ggNbWNyCJ",
        "outputId": "7f144a7b-ecc2-494a-c62f-22205cd9104f"
      },
      "execution_count": null,
      "outputs": [
        {
          "output_type": "execute_result",
          "data": {
            "text/plain": [
              "(50000, 32, 32, 3)"
            ]
          },
          "metadata": {},
          "execution_count": 52
        }
      ]
    },
    {
      "cell_type": "code",
      "source": [
        "Y_train.shape"
      ],
      "metadata": {
        "colab": {
          "base_uri": "https://localhost:8080/"
        },
        "id": "VxvFbz8KN2b4",
        "outputId": "2cdcc9e5-4569-48dc-8889-eb2b5178a18a"
      },
      "execution_count": null,
      "outputs": [
        {
          "output_type": "execute_result",
          "data": {
            "text/plain": [
              "(50000, 1)"
            ]
          },
          "metadata": {},
          "execution_count": 53
        }
      ]
    },
    {
      "cell_type": "code",
      "source": [
        "Y_train[:5]"
      ],
      "metadata": {
        "colab": {
          "base_uri": "https://localhost:8080/"
        },
        "id": "kLN-m1wDN_1D",
        "outputId": "df30c36f-1cdb-42f8-b191-5fea5f1c6b39"
      },
      "execution_count": null,
      "outputs": [
        {
          "output_type": "execute_result",
          "data": {
            "text/plain": [
              "array([[6],\n",
              "       [9],\n",
              "       [9],\n",
              "       [4],\n",
              "       [1]], dtype=uint8)"
            ]
          },
          "metadata": {},
          "execution_count": 54
        }
      ]
    },
    {
      "cell_type": "markdown",
      "source": [
        "Reshaping:\n"
      ],
      "metadata": {
        "id": "WUCJesd9R4oe"
      }
    },
    {
      "cell_type": "code",
      "source": [
        "Y_train = Y_train.reshape(-1,)\n",
        "Y_train[:5]"
      ],
      "metadata": {
        "colab": {
          "base_uri": "https://localhost:8080/"
        },
        "id": "0u_PpXUcOQiZ",
        "outputId": "cb1b3687-7644-414a-9e44-ac9048f3bc89"
      },
      "execution_count": null,
      "outputs": [
        {
          "output_type": "execute_result",
          "data": {
            "text/plain": [
              "array([6, 9, 9, 4, 1], dtype=uint8)"
            ]
          },
          "metadata": {},
          "execution_count": 55
        }
      ]
    },
    {
      "cell_type": "code",
      "source": [
        "Y_test = Y_test.reshape(-1,)\n"
      ],
      "metadata": {
        "id": "Znf2VEFiOhhr"
      },
      "execution_count": null,
      "outputs": []
    },
    {
      "cell_type": "markdown",
      "source": [
        "4. Define Classes:"
      ],
      "metadata": {
        "id": "-u6FLEg_UFcY"
      }
    },
    {
      "cell_type": "code",
      "source": [
        "classes = [\"airplane\", \"automobile\", \"bird\", \"cat\", \"deer\", \"frog\", \"horse\", \"ship\", \"truck\"]\n"
      ],
      "metadata": {
        "id": "NcTA9-D9O17h"
      },
      "execution_count": null,
      "outputs": []
    },
    {
      "cell_type": "markdown",
      "source": [
        "5. Plot a Sample Image with Class Label:\n",
        "\n"
      ],
      "metadata": {
        "id": "pajuvxTaUlar"
      }
    },
    {
      "cell_type": "code",
      "source": [
        "def plot_sample(X, y, index):\n",
        "    plt.figure(figsize=(2,2))\n",
        "    plt.imshow(X[index])\n",
        "    plt.xlabel(classes[y[index]])\n",
        "    plt.show()\n",
        "\n",
        "plot_sample(X_train, Y_train, 5)\n"
      ],
      "metadata": {
        "colab": {
          "base_uri": "https://localhost:8080/",
          "height": 237
        },
        "id": "nkio2h-HPTHM",
        "outputId": "46af8df2-4f46-4782-e821-9ebfc5688339"
      },
      "execution_count": null,
      "outputs": [
        {
          "output_type": "display_data",
          "data": {
            "text/plain": [
              "<Figure size 200x200 with 1 Axes>"
            ],
            "image/png": "[encoded data removed]"
          },
          "metadata": {}
        }
      ]
    },
    {
      "cell_type": "code",
      "source": [
        "X_train[:5]"
      ],
      "metadata": {
        "colab": {
          "base_uri": "https://localhost:8080/"
        },
        "id": "70aI-cXnQ6Nf",
        "outputId": "aa3964a5-8681-468e-aadf-1028bb751d40"
      },
      "execution_count": null,
      "outputs": [
        {
          "output_type": "execute_result",
          "data": {
            "text/plain": [
              "array([[[[ 59,  62,  63],\n",
              "         [ 43,  46,  45],\n",
              "         [ 50,  48,  43],\n",
              "         ...,\n",
              "         [158, 132, 108],\n",
              "         [152, 125, 102],\n",
              "         [148, 124, 103]],\n",
              "\n",
              "        [[ 16,  20,  20],\n",
              "         [  0,   0,   0],\n",
              "         [ 18,   8,   0],\n",
              "         ...,\n",
              "         [123,  88,  55],\n",
              "         [119,  83,  50],\n",
              "         [122,  87,  57]],\n",
              "\n",
              "        [[ 25,  24,  21],\n",
              "         [ 16,   7,   0],\n",
              "         [ 49,  27,   8],\n",
              "         ...,\n",
              "         [118,  84,  50],\n",
              "         [120,  84,  50],\n",
              "         [109,  73,  42]],\n",
              "\n",
              "        ...,\n",
              "\n",
              "        [[208, 170,  96],\n",
              "         [201, 153,  34],\n",
              "         [198, 161,  26],\n",
              "         ...,\n",
              "         [160, 133,  70],\n",
              "         [ 56,  31,   7],\n",
              "         [ 53,  34,  20]],\n",
              "\n",
              "        [[180, 139,  96],\n",
              "         [173, 123,  42],\n",
              "         [186, 144,  30],\n",
              "         ...,\n",
              "         [184, 148,  94],\n",
              "         [ 97,  62,  34],\n",
              "         [ 83,  53,  34]],\n",
              "\n",
              "        [[177, 144, 116],\n",
              "         [168, 129,  94],\n",
              "         [179, 142,  87],\n",
              "         ...,\n",
              "         [216, 184, 140],\n",
              "         [151, 118,  84],\n",
              "         [123,  92,  72]]],\n",
              "\n",
              "\n",
              "       [[[154, 177, 187],\n",
              "         [126, 137, 136],\n",
              "         [105, 104,  95],\n",
              "         ...,\n",
              "         [ 91,  95,  71],\n",
              "         [ 87,  90,  71],\n",
              "         [ 79,  81,  70]],\n",
              "\n",
              "        [[140, 160, 169],\n",
              "         [145, 153, 154],\n",
              "         [125, 125, 118],\n",
              "         ...,\n",
              "         [ 96,  99,  78],\n",
              "         [ 77,  80,  62],\n",
              "         [ 71,  73,  61]],\n",
              "\n",
              "        [[140, 155, 164],\n",
              "         [139, 146, 149],\n",
              "         [115, 115, 112],\n",
              "         ...,\n",
              "         [ 79,  82,  64],\n",
              "         [ 68,  70,  55],\n",
              "         [ 67,  69,  55]],\n",
              "\n",
              "        ...,\n",
              "\n",
              "        [[175, 167, 166],\n",
              "         [156, 154, 160],\n",
              "         [154, 160, 170],\n",
              "         ...,\n",
              "         [ 42,  34,  36],\n",
              "         [ 61,  53,  57],\n",
              "         [ 93,  83,  91]],\n",
              "\n",
              "        [[165, 154, 128],\n",
              "         [156, 152, 130],\n",
              "         [159, 161, 142],\n",
              "         ...,\n",
              "         [103,  93,  96],\n",
              "         [123, 114, 120],\n",
              "         [131, 121, 131]],\n",
              "\n",
              "        [[163, 148, 120],\n",
              "         [158, 148, 122],\n",
              "         [163, 156, 133],\n",
              "         ...,\n",
              "         [143, 133, 139],\n",
              "         [143, 134, 142],\n",
              "         [143, 133, 144]]],\n",
              "\n",
              "\n",
              "       [[[255, 255, 255],\n",
              "         [253, 253, 253],\n",
              "         [253, 253, 253],\n",
              "         ...,\n",
              "         [253, 253, 253],\n",
              "         [253, 253, 253],\n",
              "         [253, 253, 253]],\n",
              "\n",
              "        [[255, 255, 255],\n",
              "         [255, 255, 255],\n",
              "         [255, 255, 255],\n",
              "         ...,\n",
              "         [255, 255, 255],\n",
              "         [255, 255, 255],\n",
              "         [255, 255, 255]],\n",
              "\n",
              "        [[255, 255, 255],\n",
              "         [254, 254, 254],\n",
              "         [254, 254, 254],\n",
              "         ...,\n",
              "         [254, 254, 254],\n",
              "         [254, 254, 254],\n",
              "         [254, 254, 254]],\n",
              "\n",
              "        ...,\n",
              "\n",
              "        [[113, 120, 112],\n",
              "         [111, 118, 111],\n",
              "         [105, 112, 106],\n",
              "         ...,\n",
              "         [ 72,  81,  80],\n",
              "         [ 72,  80,  79],\n",
              "         [ 72,  80,  79]],\n",
              "\n",
              "        [[111, 118, 110],\n",
              "         [104, 111, 104],\n",
              "         [ 99, 106,  98],\n",
              "         ...,\n",
              "         [ 68,  75,  73],\n",
              "         [ 70,  76,  75],\n",
              "         [ 78,  84,  82]],\n",
              "\n",
              "        [[106, 113, 105],\n",
              "         [ 99, 106,  98],\n",
              "         [ 95, 102,  94],\n",
              "         ...,\n",
              "         [ 78,  85,  83],\n",
              "         [ 79,  85,  83],\n",
              "         [ 80,  86,  84]]],\n",
              "\n",
              "\n",
              "       [[[ 28,  25,  10],\n",
              "         [ 37,  34,  19],\n",
              "         [ 38,  35,  20],\n",
              "         ...,\n",
              "         [ 76,  67,  39],\n",
              "         [ 81,  72,  43],\n",
              "         [ 85,  76,  47]],\n",
              "\n",
              "        [[ 33,  28,  13],\n",
              "         [ 34,  30,  14],\n",
              "         [ 32,  27,  12],\n",
              "         ...,\n",
              "         [ 95,  82,  55],\n",
              "         [ 96,  82,  56],\n",
              "         [ 85,  72,  45]],\n",
              "\n",
              "        [[ 39,  32,  15],\n",
              "         [ 40,  33,  17],\n",
              "         [ 57,  50,  33],\n",
              "         ...,\n",
              "         [ 93,  76,  52],\n",
              "         [107,  89,  66],\n",
              "         [ 95,  77,  54]],\n",
              "\n",
              "        ...,\n",
              "\n",
              "        [[ 83,  73,  52],\n",
              "         [ 87,  77,  56],\n",
              "         [ 84,  74,  52],\n",
              "         ...,\n",
              "         [ 99,  93,  70],\n",
              "         [ 90,  84,  61],\n",
              "         [ 81,  75,  52]],\n",
              "\n",
              "        [[ 88,  72,  51],\n",
              "         [ 90,  74,  52],\n",
              "         [ 93,  77,  56],\n",
              "         ...,\n",
              "         [ 80,  74,  53],\n",
              "         [ 76,  70,  49],\n",
              "         [ 82,  76,  55]],\n",
              "\n",
              "        [[ 97,  78,  56],\n",
              "         [ 94,  75,  53],\n",
              "         [ 93,  75,  53],\n",
              "         ...,\n",
              "         [ 54,  47,  28],\n",
              "         [ 63,  56,  37],\n",
              "         [ 72,  65,  46]]],\n",
              "\n",
              "\n",
              "       [[[170, 180, 198],\n",
              "         [168, 178, 196],\n",
              "         [177, 185, 203],\n",
              "         ...,\n",
              "         [162, 179, 215],\n",
              "         [158, 178, 214],\n",
              "         [157, 177, 212]],\n",
              "\n",
              "        [[168, 181, 198],\n",
              "         [172, 185, 201],\n",
              "         [171, 183, 200],\n",
              "         ...,\n",
              "         [159, 177, 212],\n",
              "         [156, 176, 211],\n",
              "         [154, 174, 209]],\n",
              "\n",
              "        [[154, 170, 186],\n",
              "         [149, 165, 181],\n",
              "         [129, 144, 162],\n",
              "         ...,\n",
              "         [161, 178, 214],\n",
              "         [157, 177, 212],\n",
              "         [154, 174, 209]],\n",
              "\n",
              "        ...,\n",
              "\n",
              "        [[ 74,  84,  80],\n",
              "         [ 76,  85,  81],\n",
              "         [ 78,  85,  82],\n",
              "         ...,\n",
              "         [ 71,  75,  78],\n",
              "         [ 68,  72,  75],\n",
              "         [ 61,  65,  68]],\n",
              "\n",
              "        [[ 68,  76,  77],\n",
              "         [ 69,  77,  78],\n",
              "         [ 72,  79,  78],\n",
              "         ...,\n",
              "         [ 76,  80,  83],\n",
              "         [ 71,  75,  78],\n",
              "         [ 71,  75,  78]],\n",
              "\n",
              "        [[ 67,  75,  78],\n",
              "         [ 68,  76,  79],\n",
              "         [ 69,  75,  76],\n",
              "         ...,\n",
              "         [ 75,  79,  82],\n",
              "         [ 71,  75,  78],\n",
              "         [ 73,  77,  80]]]], dtype=uint8)"
            ]
          },
          "metadata": {},
          "execution_count": 59
        }
      ]
    },
    {
      "cell_type": "markdown",
      "source": [
        "6. Normalize Image Data (optional but recommended):\n",
        "\n"
      ],
      "metadata": {
        "id": "qwNiJmfHUrll"
      }
    },
    {
      "cell_type": "markdown",
      "source": [
        "Normalization of data\n"
      ],
      "metadata": {
        "id": "rcadia19RRH-"
      }
    },
    {
      "cell_type": "code",
      "source": [
        "X_train= X_train/255.0\n",
        "X_test= X_test/255.0"
      ],
      "metadata": {
        "id": "7qfCVyS5RAxu"
      },
      "execution_count": null,
      "outputs": []
    },
    {
      "cell_type": "code",
      "source": [
        "data_augmentation = tf.keras.Sequential([\n",
        "    layers.RandomFlip(\"horizontal\"),               # Random horizontal flip\n",
        "    layers.RandomRotation(0.2),                     # Random rotation in the range [-0.2, 0.2]\n",
        "    layers.RandomZoom(0.2),                         # Random zoom in the range [0, 0.2]\n",
        "    layers.RandomTranslation(height_factor=0.1, width_factor=0.1),  # Random translation\n",
        "    layers.RandomContrast(0.2)                      # Random contrast adjustment\n",
        "])\n"
      ],
      "metadata": {
        "id": "9e_KNh4aZd9X"
      },
      "execution_count": null,
      "outputs": []
    },
    {
      "cell_type": "code",
      "source": [
        "X_train[:7]"
      ],
      "metadata": {
        "colab": {
          "base_uri": "https://localhost:8080/"
        },
        "id": "XaUGm9YCRMEU",
        "outputId": "7e92d3fa-4b91-499c-dba6-5429463e3eb7"
      },
      "execution_count": null,
      "outputs": [
        {
          "output_type": "execute_result",
          "data": {
            "text/plain": [
              "array([[[[0.23137255, 0.24313725, 0.24705882],\n",
              "         [0.16862745, 0.18039216, 0.17647059],\n",
              "         [0.19607843, 0.18823529, 0.16862745],\n",
              "         ...,\n",
              "         [0.61960784, 0.51764706, 0.42352941],\n",
              "         [0.59607843, 0.49019608, 0.4       ],\n",
              "         [0.58039216, 0.48627451, 0.40392157]],\n",
              "\n",
              "        [[0.0627451 , 0.07843137, 0.07843137],\n",
              "         [0.        , 0.        , 0.        ],\n",
              "         [0.07058824, 0.03137255, 0.        ],\n",
              "         ...,\n",
              "         [0.48235294, 0.34509804, 0.21568627],\n",
              "         [0.46666667, 0.3254902 , 0.19607843],\n",
              "         [0.47843137, 0.34117647, 0.22352941]],\n",
              "\n",
              "        [[0.09803922, 0.09411765, 0.08235294],\n",
              "         [0.0627451 , 0.02745098, 0.        ],\n",
              "         [0.19215686, 0.10588235, 0.03137255],\n",
              "         ...,\n",
              "         [0.4627451 , 0.32941176, 0.19607843],\n",
              "         [0.47058824, 0.32941176, 0.19607843],\n",
              "         [0.42745098, 0.28627451, 0.16470588]],\n",
              "\n",
              "        ...,\n",
              "\n",
              "        [[0.81568627, 0.66666667, 0.37647059],\n",
              "         [0.78823529, 0.6       , 0.13333333],\n",
              "         [0.77647059, 0.63137255, 0.10196078],\n",
              "         ...,\n",
              "         [0.62745098, 0.52156863, 0.2745098 ],\n",
              "         [0.21960784, 0.12156863, 0.02745098],\n",
              "         [0.20784314, 0.13333333, 0.07843137]],\n",
              "\n",
              "        [[0.70588235, 0.54509804, 0.37647059],\n",
              "         [0.67843137, 0.48235294, 0.16470588],\n",
              "         [0.72941176, 0.56470588, 0.11764706],\n",
              "         ...,\n",
              "         [0.72156863, 0.58039216, 0.36862745],\n",
              "         [0.38039216, 0.24313725, 0.13333333],\n",
              "         [0.3254902 , 0.20784314, 0.13333333]],\n",
              "\n",
              "        [[0.69411765, 0.56470588, 0.45490196],\n",
              "         [0.65882353, 0.50588235, 0.36862745],\n",
              "         [0.70196078, 0.55686275, 0.34117647],\n",
              "         ...,\n",
              "         [0.84705882, 0.72156863, 0.54901961],\n",
              "         [0.59215686, 0.4627451 , 0.32941176],\n",
              "         [0.48235294, 0.36078431, 0.28235294]]],\n",
              "\n",
              "\n",
              "       [[[0.60392157, 0.69411765, 0.73333333],\n",
              "         [0.49411765, 0.5372549 , 0.53333333],\n",
              "         [0.41176471, 0.40784314, 0.37254902],\n",
              "         ...,\n",
              "         [0.35686275, 0.37254902, 0.27843137],\n",
              "         [0.34117647, 0.35294118, 0.27843137],\n",
              "         [0.30980392, 0.31764706, 0.2745098 ]],\n",
              "\n",
              "        [[0.54901961, 0.62745098, 0.6627451 ],\n",
              "         [0.56862745, 0.6       , 0.60392157],\n",
              "         [0.49019608, 0.49019608, 0.4627451 ],\n",
              "         ...,\n",
              "         [0.37647059, 0.38823529, 0.30588235],\n",
              "         [0.30196078, 0.31372549, 0.24313725],\n",
              "         [0.27843137, 0.28627451, 0.23921569]],\n",
              "\n",
              "        [[0.54901961, 0.60784314, 0.64313725],\n",
              "         [0.54509804, 0.57254902, 0.58431373],\n",
              "         [0.45098039, 0.45098039, 0.43921569],\n",
              "         ...,\n",
              "         [0.30980392, 0.32156863, 0.25098039],\n",
              "         [0.26666667, 0.2745098 , 0.21568627],\n",
              "         [0.2627451 , 0.27058824, 0.21568627]],\n",
              "\n",
              "        ...,\n",
              "\n",
              "        [[0.68627451, 0.65490196, 0.65098039],\n",
              "         [0.61176471, 0.60392157, 0.62745098],\n",
              "         [0.60392157, 0.62745098, 0.66666667],\n",
              "         ...,\n",
              "         [0.16470588, 0.13333333, 0.14117647],\n",
              "         [0.23921569, 0.20784314, 0.22352941],\n",
              "         [0.36470588, 0.3254902 , 0.35686275]],\n",
              "\n",
              "        [[0.64705882, 0.60392157, 0.50196078],\n",
              "         [0.61176471, 0.59607843, 0.50980392],\n",
              "         [0.62352941, 0.63137255, 0.55686275],\n",
              "         ...,\n",
              "         [0.40392157, 0.36470588, 0.37647059],\n",
              "         [0.48235294, 0.44705882, 0.47058824],\n",
              "         [0.51372549, 0.4745098 , 0.51372549]],\n",
              "\n",
              "        [[0.63921569, 0.58039216, 0.47058824],\n",
              "         [0.61960784, 0.58039216, 0.47843137],\n",
              "         [0.63921569, 0.61176471, 0.52156863],\n",
              "         ...,\n",
              "         [0.56078431, 0.52156863, 0.54509804],\n",
              "         [0.56078431, 0.5254902 , 0.55686275],\n",
              "         [0.56078431, 0.52156863, 0.56470588]]],\n",
              "\n",
              "\n",
              "       [[[1.        , 1.        , 1.        ],\n",
              "         [0.99215686, 0.99215686, 0.99215686],\n",
              "         [0.99215686, 0.99215686, 0.99215686],\n",
              "         ...,\n",
              "         [0.99215686, 0.99215686, 0.99215686],\n",
              "         [0.99215686, 0.99215686, 0.99215686],\n",
              "         [0.99215686, 0.99215686, 0.99215686]],\n",
              "\n",
              "        [[1.        , 1.        , 1.        ],\n",
              "         [1.        , 1.        , 1.        ],\n",
              "         [1.        , 1.        , 1.        ],\n",
              "         ...,\n",
              "         [1.        , 1.        , 1.        ],\n",
              "         [1.        , 1.        , 1.        ],\n",
              "         [1.        , 1.        , 1.        ]],\n",
              "\n",
              "        [[1.        , 1.        , 1.        ],\n",
              "         [0.99607843, 0.99607843, 0.99607843],\n",
              "         [0.99607843, 0.99607843, 0.99607843],\n",
              "         ...,\n",
              "         [0.99607843, 0.99607843, 0.99607843],\n",
              "         [0.99607843, 0.99607843, 0.99607843],\n",
              "         [0.99607843, 0.99607843, 0.99607843]],\n",
              "\n",
              "        ...,\n",
              "\n",
              "        [[0.44313725, 0.47058824, 0.43921569],\n",
              "         [0.43529412, 0.4627451 , 0.43529412],\n",
              "         [0.41176471, 0.43921569, 0.41568627],\n",
              "         ...,\n",
              "         [0.28235294, 0.31764706, 0.31372549],\n",
              "         [0.28235294, 0.31372549, 0.30980392],\n",
              "         [0.28235294, 0.31372549, 0.30980392]],\n",
              "\n",
              "        [[0.43529412, 0.4627451 , 0.43137255],\n",
              "         [0.40784314, 0.43529412, 0.40784314],\n",
              "         [0.38823529, 0.41568627, 0.38431373],\n",
              "         ...,\n",
              "         [0.26666667, 0.29411765, 0.28627451],\n",
              "         [0.2745098 , 0.29803922, 0.29411765],\n",
              "         [0.30588235, 0.32941176, 0.32156863]],\n",
              "\n",
              "        [[0.41568627, 0.44313725, 0.41176471],\n",
              "         [0.38823529, 0.41568627, 0.38431373],\n",
              "         [0.37254902, 0.4       , 0.36862745],\n",
              "         ...,\n",
              "         [0.30588235, 0.33333333, 0.3254902 ],\n",
              "         [0.30980392, 0.33333333, 0.3254902 ],\n",
              "         [0.31372549, 0.3372549 , 0.32941176]]],\n",
              "\n",
              "\n",
              "       ...,\n",
              "\n",
              "\n",
              "       [[[0.66666667, 0.70588235, 0.77647059],\n",
              "         [0.65882353, 0.69803922, 0.76862745],\n",
              "         [0.69411765, 0.7254902 , 0.79607843],\n",
              "         ...,\n",
              "         [0.63529412, 0.70196078, 0.84313725],\n",
              "         [0.61960784, 0.69803922, 0.83921569],\n",
              "         [0.61568627, 0.69411765, 0.83137255]],\n",
              "\n",
              "        [[0.65882353, 0.70980392, 0.77647059],\n",
              "         [0.6745098 , 0.7254902 , 0.78823529],\n",
              "         [0.67058824, 0.71764706, 0.78431373],\n",
              "         ...,\n",
              "         [0.62352941, 0.69411765, 0.83137255],\n",
              "         [0.61176471, 0.69019608, 0.82745098],\n",
              "         [0.60392157, 0.68235294, 0.81960784]],\n",
              "\n",
              "        [[0.60392157, 0.66666667, 0.72941176],\n",
              "         [0.58431373, 0.64705882, 0.70980392],\n",
              "         [0.50588235, 0.56470588, 0.63529412],\n",
              "         ...,\n",
              "         [0.63137255, 0.69803922, 0.83921569],\n",
              "         [0.61568627, 0.69411765, 0.83137255],\n",
              "         [0.60392157, 0.68235294, 0.81960784]],\n",
              "\n",
              "        ...,\n",
              "\n",
              "        [[0.29019608, 0.32941176, 0.31372549],\n",
              "         [0.29803922, 0.33333333, 0.31764706],\n",
              "         [0.30588235, 0.33333333, 0.32156863],\n",
              "         ...,\n",
              "         [0.27843137, 0.29411765, 0.30588235],\n",
              "         [0.26666667, 0.28235294, 0.29411765],\n",
              "         [0.23921569, 0.25490196, 0.26666667]],\n",
              "\n",
              "        [[0.26666667, 0.29803922, 0.30196078],\n",
              "         [0.27058824, 0.30196078, 0.30588235],\n",
              "         [0.28235294, 0.30980392, 0.30588235],\n",
              "         ...,\n",
              "         [0.29803922, 0.31372549, 0.3254902 ],\n",
              "         [0.27843137, 0.29411765, 0.30588235],\n",
              "         [0.27843137, 0.29411765, 0.30588235]],\n",
              "\n",
              "        [[0.2627451 , 0.29411765, 0.30588235],\n",
              "         [0.26666667, 0.29803922, 0.30980392],\n",
              "         [0.27058824, 0.29411765, 0.29803922],\n",
              "         ...,\n",
              "         [0.29411765, 0.30980392, 0.32156863],\n",
              "         [0.27843137, 0.29411765, 0.30588235],\n",
              "         [0.28627451, 0.30196078, 0.31372549]]],\n",
              "\n",
              "\n",
              "       [[[0.62352941, 0.4       , 0.39607843],\n",
              "         [0.58823529, 0.35686275, 0.37254902],\n",
              "         [0.6       , 0.37254902, 0.38039216],\n",
              "         ...,\n",
              "         [0.35686275, 0.27843137, 0.21960784],\n",
              "         [0.29019608, 0.24705882, 0.21568627],\n",
              "         [0.29803922, 0.22745098, 0.21568627]],\n",
              "\n",
              "        [[0.55686275, 0.29411765, 0.26666667],\n",
              "         [0.57254902, 0.28235294, 0.25882353],\n",
              "         [0.60784314, 0.29803922, 0.25490196],\n",
              "         ...,\n",
              "         [0.49803922, 0.41176471, 0.27843137],\n",
              "         [0.47843137, 0.43529412, 0.36470588],\n",
              "         [0.3372549 , 0.27058824, 0.23921569]],\n",
              "\n",
              "        [[0.42745098, 0.2627451 , 0.29411765],\n",
              "         [0.38823529, 0.22745098, 0.23529412],\n",
              "         [0.41176471, 0.23137255, 0.20392157],\n",
              "         ...,\n",
              "         [0.5372549 , 0.43921569, 0.31372549],\n",
              "         [0.63921569, 0.51764706, 0.41176471],\n",
              "         [0.36470588, 0.28235294, 0.27843137]],\n",
              "\n",
              "        ...,\n",
              "\n",
              "        [[0.95686275, 0.50588235, 0.2745098 ],\n",
              "         [0.94117647, 0.48235294, 0.25490196],\n",
              "         [0.94509804, 0.47843137, 0.25490196],\n",
              "         ...,\n",
              "         [0.61176471, 0.16470588, 0.05882353],\n",
              "         [0.70196078, 0.23137255, 0.10196078],\n",
              "         [0.78431373, 0.28627451, 0.14117647]],\n",
              "\n",
              "        [[0.96470588, 0.52156863, 0.29019608],\n",
              "         [0.95294118, 0.50196078, 0.28235294],\n",
              "         [0.95294118, 0.49803922, 0.2745098 ],\n",
              "         ...,\n",
              "         [0.63529412, 0.17254902, 0.05490196],\n",
              "         [0.69803922, 0.21960784, 0.08627451],\n",
              "         [0.75294118, 0.25490196, 0.10588235]],\n",
              "\n",
              "        [[0.96470588, 0.54509804, 0.32156863],\n",
              "         [0.95294118, 0.52156863, 0.30588235],\n",
              "         [0.95686275, 0.51764706, 0.30196078],\n",
              "         ...,\n",
              "         [0.65098039, 0.18431373, 0.05490196],\n",
              "         [0.67843137, 0.2       , 0.06666667],\n",
              "         [0.71372549, 0.22352941, 0.0745098 ]]],\n",
              "\n",
              "\n",
              "       [[[0.64313725, 0.80784314, 0.32941176],\n",
              "         [0.41176471, 0.54901961, 0.23921569],\n",
              "         [0.4627451 , 0.58039216, 0.39607843],\n",
              "         ...,\n",
              "         [0.42745098, 0.57647059, 0.28627451],\n",
              "         [0.42352941, 0.57647059, 0.27058824],\n",
              "         [0.35686275, 0.50588235, 0.22352941]],\n",
              "\n",
              "        [[0.65490196, 0.83529412, 0.32941176],\n",
              "         [0.45490196, 0.62745098, 0.19215686],\n",
              "         [0.28235294, 0.42745098, 0.16862745],\n",
              "         ...,\n",
              "         [0.41176471, 0.55686275, 0.30980392],\n",
              "         [0.41176471, 0.55686275, 0.28235294],\n",
              "         [0.34901961, 0.49803922, 0.22352941]],\n",
              "\n",
              "        [[0.54901961, 0.74901961, 0.25490196],\n",
              "         [0.55686275, 0.75686275, 0.25882353],\n",
              "         [0.46666667, 0.63921569, 0.30980392],\n",
              "         ...,\n",
              "         [0.40784314, 0.54509804, 0.32941176],\n",
              "         [0.32941176, 0.47058824, 0.22745098],\n",
              "         [0.30588235, 0.45098039, 0.19215686]],\n",
              "\n",
              "        ...,\n",
              "\n",
              "        [[0.54509804, 0.58039216, 0.31764706],\n",
              "         [0.55686275, 0.60784314, 0.29019608],\n",
              "         [0.52941176, 0.61176471, 0.28235294],\n",
              "         ...,\n",
              "         [0.34901961, 0.5254902 , 0.10980392],\n",
              "         [0.38039216, 0.58039216, 0.09411765],\n",
              "         [0.49411765, 0.69019608, 0.19215686]],\n",
              "\n",
              "        [[0.63921569, 0.61568627, 0.33333333],\n",
              "         [0.6       , 0.64313725, 0.32156863],\n",
              "         [0.57254902, 0.64313725, 0.35294118],\n",
              "         ...,\n",
              "         [0.33333333, 0.50980392, 0.0745098 ],\n",
              "         [0.38431373, 0.58039216, 0.10588235],\n",
              "         [0.49803922, 0.69803922, 0.18823529]],\n",
              "\n",
              "        [[0.71764706, 0.6       , 0.4       ],\n",
              "         [0.69019608, 0.71372549, 0.45490196],\n",
              "         [0.60392157, 0.60392157, 0.39215686],\n",
              "         ...,\n",
              "         [0.36862745, 0.5254902 , 0.11372549],\n",
              "         [0.35686275, 0.52156863, 0.10196078],\n",
              "         [0.47843137, 0.66666667, 0.17254902]]]])"
            ]
          },
          "metadata": {},
          "execution_count": 62
        }
      ]
    },
    {
      "cell_type": "markdown",
      "source": [
        "7. Build CNN Model:"
      ],
      "metadata": {
        "id": "G-5rWCvGRdiz"
      }
    },
    {
      "cell_type": "code",
      "source": [
        "cnn = models.Sequential([\n",
        "    data_augmentation,\n",
        "    layers.Conv2D(filters=32, kernel_size=(3, 3), activation='relu', input_shape=(32, 32, 3)),\n",
        "    layers.MaxPooling2D((2, 2)),\n",
        "\n",
        "    layers.Conv2D(filters=64, kernel_size=(3, 3), activation='relu'),\n",
        "    layers.MaxPooling2D((2, 2)),\n",
        "\n",
        "    layers.Flatten(),\n",
        "    layers.Dense(64, activation='relu'),\n",
        "    layers.Dense(10, activation='softmax')\n",
        "])\n"
      ],
      "metadata": {
        "colab": {
          "base_uri": "https://localhost:8080/"
        },
        "id": "FNpJClQ3Rcuv",
        "outputId": "4708aa57-c0c5-47fb-e3ae-dcc4994a9ac1"
      },
      "execution_count": null,
      "outputs": [
        {
          "output_type": "stream",
          "name": "stderr",
          "text": [
            "/usr/local/lib/python3.11/dist-packages/keras/src/layers/convolutional/base_conv.py:107: UserWarning: Do not pass an `input_shape`/`input_dim` argument to a layer. When using Sequential models, prefer using an `Input(shape)` object as the first layer in the model instead.\n",
            "  super().__init__(activity_regularizer=activity_regularizer, **kwargs)\n"
          ]
        }
      ]
    },
    {
      "cell_type": "markdown",
      "source": [
        " 8. Compile the Model:"
      ],
      "metadata": {
        "id": "nJVIlajIUcPI"
      }
    },
    {
      "cell_type": "code",
      "source": [
        "cnn.compile(optimizer='adam',\n",
        "            loss='sparse_categorical_crossentropy',  # Fixed the typo in 'sparse_categorical_crossentropy'\n",
        "            metrics=['accuracy'])  # Fixed the typo in 'accuracy'\n"
      ],
      "metadata": {
        "id": "myroN3QPUH5G"
      },
      "execution_count": null,
      "outputs": []
    },
    {
      "cell_type": "markdown",
      "source": [
        "Define Early Stopping\n"
      ],
      "metadata": {
        "id": "gBK63AzgbtSF"
      }
    },
    {
      "cell_type": "code",
      "source": [
        "\n",
        "# Define early stopping\n",
        "early_stopping = EarlyStopping(monitor='val_loss',   # Metric to monitor (could also use 'val_accuracy')\n",
        "                               patience=3,           # Number of epochs with no improvement after which training will stop\n",
        "                               restore_best_weights=True)  # Restore the weights from the epoch with the best value of the monitored metric\n"
      ],
      "metadata": {
        "id": "dBZLlx-9bFDi"
      },
      "execution_count": null,
      "outputs": []
    },
    {
      "cell_type": "markdown",
      "source": [
        "9. Train the CNN Model with Epoch Output:\n"
      ],
      "metadata": {
        "id": "QJX7kG7RViJN"
      }
    },
    {
      "cell_type": "code",
      "source": [
        "cnn.fit(X_train, Y_train,\n",
        "        epochs=5,\n",
        "        validation_data=(X_test, Y_test),\n",
        "        callbacks=[early_stopping]\n",
        ")\n"
      ],
      "metadata": {
        "colab": {
          "base_uri": "https://localhost:8080/"
        },
        "id": "8PGw_fMKVIo9",
        "outputId": "6d209153-da47-4fec-f676-600266996d2c"
      },
      "execution_count": null,
      "outputs": [
        {
          "output_type": "stream",
          "name": "stdout",
          "text": [
            "Epoch 1/5\n",
            "\u001b[1m1563/1563\u001b[0m \u001b[32m━━━━━━━━━━━━━━━━━━━━\u001b[0m\u001b[37m\u001b[0m \u001b[1m95s\u001b[0m 59ms/step - accuracy: 0.2964 - loss: 1.9129 - val_accuracy: 0.4542 - val_loss: 1.4911\n",
            "Epoch 2/5\n",
            "\u001b[1m1563/1563\u001b[0m \u001b[32m━━━━━━━━━━━━━━━━━━━━\u001b[0m\u001b[37m\u001b[0m \u001b[1m138s\u001b[0m 56ms/step - accuracy: 0.4191 - loss: 1.6139 - val_accuracy: 0.5051 - val_loss: 1.3690\n",
            "Epoch 3/5\n",
            "\u001b[1m1563/1563\u001b[0m \u001b[32m━━━━━━━━━━━━━━━━━━━━\u001b[0m\u001b[37m\u001b[0m \u001b[1m89s\u001b[0m 57ms/step - accuracy: 0.4587 - loss: 1.5141 - val_accuracy: 0.4781 - val_loss: 1.4415\n",
            "Epoch 4/5\n",
            "\u001b[1m1563/1563\u001b[0m \u001b[32m━━━━━━━━━━━━━━━━━━━━\u001b[0m\u001b[37m\u001b[0m \u001b[1m141s\u001b[0m 56ms/step - accuracy: 0.4789 - loss: 1.4535 - val_accuracy: 0.5271 - val_loss: 1.3386\n",
            "Epoch 5/5\n",
            "\u001b[1m1563/1563\u001b[0m \u001b[32m━━━━━━━━━━━━━━━━━━━━\u001b[0m\u001b[37m\u001b[0m \u001b[1m141s\u001b[0m 55ms/step - accuracy: 0.4959 - loss: 1.4101 - val_accuracy: 0.5336 - val_loss: 1.2928\n"
          ]
        },
        {
          "output_type": "execute_result",
          "data": {
            "text/plain": [
              "<keras.src.callbacks.history.History at 0x7a48c3044050>"
            ]
          },
          "metadata": {},
          "execution_count": 67
        }
      ]
    },
    {
      "cell_type": "markdown",
      "source": [
        "10. Evaluate the CNN Model:\n"
      ],
      "metadata": {
        "id": "1z9uxGZ3XeNA"
      }
    },
    {
      "cell_type": "code",
      "source": [
        "test_loss, test_acc = cnn.evaluate(X_test, Y_test)\n",
        "print(f\"Test Accuracy: {test_acc:.2f}\")\n"
      ],
      "metadata": {
        "colab": {
          "base_uri": "https://localhost:8080/"
        },
        "id": "Qd7aIyNaXA5e",
        "outputId": "afe56d47-049f-4b21-8389-e3ee0db19a2e"
      },
      "execution_count": null,
      "outputs": [
        {
          "output_type": "stream",
          "name": "stdout",
          "text": [
            "\u001b[1m313/313\u001b[0m \u001b[32m━━━━━━━━━━━━━━━━━━━━\u001b[0m\u001b[37m\u001b[0m \u001b[1m5s\u001b[0m 15ms/step - accuracy: 0.5332 - loss: 1.2900\n",
            "Test Accuracy: 0.53\n"
          ]
        }
      ]
    },
    {
      "cell_type": "markdown",
      "source": [
        "11. Predict on Test Data and Display First 5 Predictions:\n"
      ],
      "metadata": {
        "id": "vcfJZG01YJs0"
      }
    },
    {
      "cell_type": "code",
      "source": [
        "y_pred = cnn.predict(X_test)\n",
        "print(y_pred[:5])\n"
      ],
      "metadata": {
        "colab": {
          "base_uri": "https://localhost:8080/"
        },
        "id": "Xes0JKRxXJXB",
        "outputId": "61988eda-2603-4241-90f4-5ea260b0ec0e"
      },
      "execution_count": null,
      "outputs": [
        {
          "output_type": "stream",
          "name": "stdout",
          "text": [
            "\u001b[1m313/313\u001b[0m \u001b[32m━━━━━━━━━━━━━━━━━━━━\u001b[0m\u001b[37m\u001b[0m \u001b[1m4s\u001b[0m 12ms/step\n",
            "[[1.69873629e-02 1.25271352e-02 2.68182624e-02 4.58424002e-01\n",
            "  5.49062341e-03 4.09628332e-01 4.27098311e-02 3.38568469e-03\n",
            "  2.17947494e-02 2.23402656e-03]\n",
            " [1.19934082e-01 4.92653459e-01 8.06445780e-04 1.48350431e-03\n",
            "  5.46805153e-04 1.90566038e-03 7.12164911e-05 7.87030091e-04\n",
            "  2.78996855e-01 1.02814905e-01]\n",
            " [1.24519825e-01 4.37075466e-01 5.88140311e-03 1.40616773e-02\n",
            "  3.29457154e-03 4.89960611e-03 1.36698154e-03 6.75923843e-03\n",
            "  2.39139676e-01 1.63001537e-01]\n",
            " [7.27772534e-01 1.38043150e-01 3.49800102e-02 1.64196119e-02\n",
            "  8.48192070e-03 8.63252860e-03 4.37724404e-03 2.24642665e-03\n",
            "  1.45283351e-02 4.45182286e-02]\n",
            " [3.21533735e-04 2.74159771e-04 4.77991104e-02 1.71852279e-02\n",
            "  6.36059105e-01 1.09839011e-02 2.80723602e-01 6.11284375e-03\n",
            "  2.94490746e-04 2.46050127e-04]]\n"
          ]
        }
      ]
    },
    {
      "cell_type": "code",
      "source": [
        "y_classes=[np.argmax(element0 for leemenet in y_pred)]\n",
        "y_classes[:5]"
      ],
      "metadata": {
        "colab": {
          "base_uri": "https://localhost:8080/"
        },
        "id": "YC1Nk3yWXWHw",
        "outputId": "9a269ebf-2c2b-49d5-a15d-59f503e36064"
      },
      "execution_count": null,
      "outputs": [
        {
          "output_type": "execute_result",
          "data": {
            "text/plain": [
              "[0]"
            ]
          },
          "metadata": {},
          "execution_count": 70
        }
      ]
    },
    {
      "cell_type": "code",
      "source": [
        "Y_test[:5]"
      ],
      "metadata": {
        "colab": {
          "base_uri": "https://localhost:8080/"
        },
        "id": "SoneHzHuX8lc",
        "outputId": "6b6e7ed3-f9cc-469e-8998-17fbd20ebc97"
      },
      "execution_count": null,
      "outputs": [
        {
          "output_type": "execute_result",
          "data": {
            "text/plain": [
              "array([3, 8, 8, 0, 6], dtype=uint8)"
            ]
          },
          "metadata": {},
          "execution_count": 71
        }
      ]
    },
    {
      "cell_type": "code",
      "source": [
        "plot_sample(X_test,Y_test,2)"
      ],
      "metadata": {
        "colab": {
          "base_uri": "https://localhost:8080/",
          "height": 237
        },
        "id": "rKlfuhxlX_8b",
        "outputId": "0f4fa92c-44f2-48f0-f0bf-61f21e87b9be"
      },
      "execution_count": null,
      "outputs": [
        {
          "output_type": "display_data",
          "data": {
            "text/plain": [
              "<Figure size 200x200 with 1 Axes>"
            ],
            "image/png": "[encoded data removed]"
          },
          "metadata": {}
        }
      ]
    },
    {
      "cell_type": "code",
      "source": [
        "print(classes[y_classes[2]])\n"
      ],
      "metadata": {
        "colab": {
          "base_uri": "https://localhost:8080/",
          "height": 141
        },
        "id": "e04_QkAQYcPP",
        "outputId": "f416a3d0-1767-483e-cdcd-be4039a23662"
      },
      "execution_count": 5,
      "outputs": [
        {
          "output_type": "error",
          "ename": "NameError",
          "evalue": "name 'classes' is not defined",
          "traceback": [
            "\u001b[0;31m---------------------------------------------------------------------------\u001b[0m",
            "\u001b[0;31mNameError\u001b[0m                                 Traceback (most recent call last)",
            "\u001b[0;32m<ipython-input-5-342274ad6053>\u001b[0m in \u001b[0;36m<cell line: 0>\u001b[0;34m()\u001b[0m\n\u001b[0;32m----> 1\u001b[0;31m \u001b[0mprint\u001b[0m\u001b[0;34m(\u001b[0m\u001b[0mclasses\u001b[0m\u001b[0;34m[\u001b[0m\u001b[0my_classes\u001b[0m\u001b[0;34m[\u001b[0m\u001b[0;36m2\u001b[0m\u001b[0;34m]\u001b[0m\u001b[0;34m]\u001b[0m\u001b[0;34m)\u001b[0m\u001b[0;34m\u001b[0m\u001b[0;34m\u001b[0m\u001b[0m\n\u001b[0m",
            "\u001b[0;31mNameError\u001b[0m: name 'classes' is not defined"
          ]
        }
      ]
    }
  ]
}